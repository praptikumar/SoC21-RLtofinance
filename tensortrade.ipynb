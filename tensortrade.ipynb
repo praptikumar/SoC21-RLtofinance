{
  "nbformat": 4,
  "nbformat_minor": 0,
  "metadata": {
    "colab": {
      "name": "tensortrade.ipynb",
      "provenance": []
    },
    "kernelspec": {
      "name": "python3",
      "display_name": "Python 3"
    },
    "language_info": {
      "name": "python"
    }
  },
  "cells": [
    {
      "cell_type": "code",
      "metadata": {
        "id": "w1uMV0DfzBW9"
      },
      "source": [
        "import os\n",
        "import sys\n",
        "import warnings\n",
        "import numpy\n",
        "\n",
        "def warn(*args, **kwargs):\n",
        "    pass\n",
        "\n",
        "warnings.warn = warn\n",
        "warnings.simplefilter(action='ignore', category=FutureWarning)\n",
        "numpy.seterr(divide = 'ignore') \n",
        "\n",
        "sys.path.append(os.path.dirname(os.path.abspath('')))"
      ],
      "execution_count": null,
      "outputs": []
    },
    {
      "cell_type": "code",
      "metadata": {
        "colab": {
          "base_uri": "https://localhost:8080/",
          "height": 1000
        },
        "id": "AXJBeyHt0nC2",
        "outputId": "1f0dc5f0-82d5-40fc-9277-e89098c0d1ed"
      },
      "source": [
        "!pip install git+https://github.com/notadamking/tensortrade.git"
      ],
      "execution_count": null,
      "outputs": [
        {
          "output_type": "stream",
          "text": [
            "Collecting git+https://github.com/notadamking/tensortrade.git\n",
            "  Cloning https://github.com/notadamking/tensortrade.git to /tmp/pip-req-build-n107sm2l\n",
            "  Running command git clone -q https://github.com/notadamking/tensortrade.git /tmp/pip-req-build-n107sm2l\n",
            "Requirement already satisfied: numpy>=1.17.0 in /usr/local/lib/python3.7/dist-packages (from tensortrade==1.0.4.dev0) (1.19.5)\n",
            "Requirement already satisfied: pandas>=0.25.0 in /usr/local/lib/python3.7/dist-packages (from tensortrade==1.0.4.dev0) (1.1.5)\n",
            "Requirement already satisfied: gym>=0.14.0 in /usr/local/lib/python3.7/dist-packages (from tensortrade==1.0.4.dev0) (0.17.3)\n",
            "Collecting pyyaml>=5.1.2\n",
            "\u001b[?25l  Downloading https://files.pythonhosted.org/packages/7a/a5/393c087efdc78091afa2af9f1378762f9821c9c1d7a22c5753fb5ac5f97a/PyYAML-5.4.1-cp37-cp37m-manylinux1_x86_64.whl (636kB)\n",
            "\u001b[K     |████████████████████████████████| 645kB 7.6MB/s \n",
            "\u001b[?25hCollecting stochastic>=0.6.0\n",
            "\u001b[?25l  Downloading https://files.pythonhosted.org/packages/a0/0e/380ace1d576d64be4d4315f61e7b8ef1583ece70a4112ab8575c7b173ef2/stochastic-0.6.0-py3-none-any.whl (49kB)\n",
            "\u001b[K     |████████████████████████████████| 51kB 6.9MB/s \n",
            "\u001b[?25hRequirement already satisfied: tensorflow>=2.1.0 in /usr/local/lib/python3.7/dist-packages (from tensortrade==1.0.4.dev0) (2.5.0)\n",
            "Collecting ipython>=7.12.0\n",
            "\u001b[?25l  Downloading https://files.pythonhosted.org/packages/c0/34/abf879c9c8a282b2d06c880f3791ce91b25de1912bdcfa4a209afebe12f3/ipython-7.24.1-py3-none-any.whl (785kB)\n",
            "\u001b[K     |████████████████████████████████| 788kB 37.3MB/s \n",
            "\u001b[?25hRequirement already satisfied: matplotlib>=3.1.1 in /usr/local/lib/python3.7/dist-packages (from tensortrade==1.0.4.dev0) (3.2.2)\n",
            "Collecting plotly>=4.5.0\n",
            "\u001b[?25l  Downloading https://files.pythonhosted.org/packages/1f/f6/bd3c17c8003b6641df1228e80e1acac97ed8402635e46c2571f8e1ef63af/plotly-4.14.3-py2.py3-none-any.whl (13.2MB)\n",
            "\u001b[K     |████████████████████████████████| 13.2MB 330kB/s \n",
            "\u001b[?25hRequirement already satisfied: python-dateutil>=2.7.3 in /usr/local/lib/python3.7/dist-packages (from pandas>=0.25.0->tensortrade==1.0.4.dev0) (2.8.1)\n",
            "Requirement already satisfied: pytz>=2017.2 in /usr/local/lib/python3.7/dist-packages (from pandas>=0.25.0->tensortrade==1.0.4.dev0) (2018.9)\n",
            "Requirement already satisfied: pyglet<=1.5.0,>=1.4.0 in /usr/local/lib/python3.7/dist-packages (from gym>=0.14.0->tensortrade==1.0.4.dev0) (1.5.0)\n",
            "Requirement already satisfied: cloudpickle<1.7.0,>=1.2.0 in /usr/local/lib/python3.7/dist-packages (from gym>=0.14.0->tensortrade==1.0.4.dev0) (1.3.0)\n",
            "Requirement already satisfied: scipy in /usr/local/lib/python3.7/dist-packages (from gym>=0.14.0->tensortrade==1.0.4.dev0) (1.4.1)\n",
            "Requirement already satisfied: wheel~=0.35 in /usr/local/lib/python3.7/dist-packages (from tensorflow>=2.1.0->tensortrade==1.0.4.dev0) (0.36.2)\n",
            "Requirement already satisfied: keras-preprocessing~=1.1.2 in /usr/local/lib/python3.7/dist-packages (from tensorflow>=2.1.0->tensortrade==1.0.4.dev0) (1.1.2)\n",
            "Requirement already satisfied: gast==0.4.0 in /usr/local/lib/python3.7/dist-packages (from tensorflow>=2.1.0->tensortrade==1.0.4.dev0) (0.4.0)\n",
            "Requirement already satisfied: termcolor~=1.1.0 in /usr/local/lib/python3.7/dist-packages (from tensorflow>=2.1.0->tensortrade==1.0.4.dev0) (1.1.0)\n",
            "Requirement already satisfied: wrapt~=1.12.1 in /usr/local/lib/python3.7/dist-packages (from tensorflow>=2.1.0->tensortrade==1.0.4.dev0) (1.12.1)\n",
            "Requirement already satisfied: absl-py~=0.10 in /usr/local/lib/python3.7/dist-packages (from tensorflow>=2.1.0->tensortrade==1.0.4.dev0) (0.12.0)\n",
            "Requirement already satisfied: opt-einsum~=3.3.0 in /usr/local/lib/python3.7/dist-packages (from tensorflow>=2.1.0->tensortrade==1.0.4.dev0) (3.3.0)\n",
            "Requirement already satisfied: astunparse~=1.6.3 in /usr/local/lib/python3.7/dist-packages (from tensorflow>=2.1.0->tensortrade==1.0.4.dev0) (1.6.3)\n",
            "Requirement already satisfied: google-pasta~=0.2 in /usr/local/lib/python3.7/dist-packages (from tensorflow>=2.1.0->tensortrade==1.0.4.dev0) (0.2.0)\n",
            "Requirement already satisfied: tensorflow-estimator<2.6.0,>=2.5.0rc0 in /usr/local/lib/python3.7/dist-packages (from tensorflow>=2.1.0->tensortrade==1.0.4.dev0) (2.5.0)\n",
            "Requirement already satisfied: h5py~=3.1.0 in /usr/local/lib/python3.7/dist-packages (from tensorflow>=2.1.0->tensortrade==1.0.4.dev0) (3.1.0)\n",
            "Requirement already satisfied: keras-nightly~=2.5.0.dev in /usr/local/lib/python3.7/dist-packages (from tensorflow>=2.1.0->tensortrade==1.0.4.dev0) (2.5.0.dev2021032900)\n",
            "Requirement already satisfied: typing-extensions~=3.7.4 in /usr/local/lib/python3.7/dist-packages (from tensorflow>=2.1.0->tensortrade==1.0.4.dev0) (3.7.4.3)\n",
            "Requirement already satisfied: flatbuffers~=1.12.0 in /usr/local/lib/python3.7/dist-packages (from tensorflow>=2.1.0->tensortrade==1.0.4.dev0) (1.12)\n",
            "Requirement already satisfied: six~=1.15.0 in /usr/local/lib/python3.7/dist-packages (from tensorflow>=2.1.0->tensortrade==1.0.4.dev0) (1.15.0)\n",
            "Requirement already satisfied: tensorboard~=2.5 in /usr/local/lib/python3.7/dist-packages (from tensorflow>=2.1.0->tensortrade==1.0.4.dev0) (2.5.0)\n",
            "Requirement already satisfied: grpcio~=1.34.0 in /usr/local/lib/python3.7/dist-packages (from tensorflow>=2.1.0->tensortrade==1.0.4.dev0) (1.34.1)\n",
            "Requirement already satisfied: protobuf>=3.9.2 in /usr/local/lib/python3.7/dist-packages (from tensorflow>=2.1.0->tensortrade==1.0.4.dev0) (3.12.4)\n",
            "Requirement already satisfied: pygments in /usr/local/lib/python3.7/dist-packages (from ipython>=7.12.0->tensortrade==1.0.4.dev0) (2.6.1)\n",
            "Requirement already satisfied: decorator in /usr/local/lib/python3.7/dist-packages (from ipython>=7.12.0->tensortrade==1.0.4.dev0) (4.4.2)\n",
            "Requirement already satisfied: matplotlib-inline in /usr/local/lib/python3.7/dist-packages (from ipython>=7.12.0->tensortrade==1.0.4.dev0) (0.1.2)\n",
            "Requirement already satisfied: pexpect>4.3; sys_platform != \"win32\" in /usr/local/lib/python3.7/dist-packages (from ipython>=7.12.0->tensortrade==1.0.4.dev0) (4.8.0)\n",
            "Requirement already satisfied: pickleshare in /usr/local/lib/python3.7/dist-packages (from ipython>=7.12.0->tensortrade==1.0.4.dev0) (0.7.5)\n",
            "Requirement already satisfied: jedi>=0.16 in /usr/local/lib/python3.7/dist-packages (from ipython>=7.12.0->tensortrade==1.0.4.dev0) (0.18.0)\n",
            "Collecting prompt-toolkit!=3.0.0,!=3.0.1,<3.1.0,>=2.0.0\n",
            "\u001b[?25l  Downloading https://files.pythonhosted.org/packages/eb/e6/4b4ca4fa94462d4560ba2f4e62e62108ab07be2e16a92e594e43b12d3300/prompt_toolkit-3.0.18-py3-none-any.whl (367kB)\n",
            "\u001b[K     |████████████████████████████████| 368kB 39.0MB/s \n",
            "\u001b[?25hRequirement already satisfied: backcall in /usr/local/lib/python3.7/dist-packages (from ipython>=7.12.0->tensortrade==1.0.4.dev0) (0.2.0)\n",
            "Requirement already satisfied: traitlets>=4.2 in /usr/local/lib/python3.7/dist-packages (from ipython>=7.12.0->tensortrade==1.0.4.dev0) (5.0.5)\n",
            "Requirement already satisfied: setuptools>=18.5 in /usr/local/lib/python3.7/dist-packages (from ipython>=7.12.0->tensortrade==1.0.4.dev0) (57.0.0)\n",
            "Requirement already satisfied: pyparsing!=2.0.4,!=2.1.2,!=2.1.6,>=2.0.1 in /usr/local/lib/python3.7/dist-packages (from matplotlib>=3.1.1->tensortrade==1.0.4.dev0) (2.4.7)\n",
            "Requirement already satisfied: kiwisolver>=1.0.1 in /usr/local/lib/python3.7/dist-packages (from matplotlib>=3.1.1->tensortrade==1.0.4.dev0) (1.3.1)\n",
            "Requirement already satisfied: cycler>=0.10 in /usr/local/lib/python3.7/dist-packages (from matplotlib>=3.1.1->tensortrade==1.0.4.dev0) (0.10.0)\n",
            "Requirement already satisfied: retrying>=1.3.3 in /usr/local/lib/python3.7/dist-packages (from plotly>=4.5.0->tensortrade==1.0.4.dev0) (1.3.3)\n",
            "Requirement already satisfied: future in /usr/local/lib/python3.7/dist-packages (from pyglet<=1.5.0,>=1.4.0->gym>=0.14.0->tensortrade==1.0.4.dev0) (0.16.0)\n",
            "Requirement already satisfied: cached-property; python_version < \"3.8\" in /usr/local/lib/python3.7/dist-packages (from h5py~=3.1.0->tensorflow>=2.1.0->tensortrade==1.0.4.dev0) (1.5.2)\n",
            "Requirement already satisfied: markdown>=2.6.8 in /usr/local/lib/python3.7/dist-packages (from tensorboard~=2.5->tensorflow>=2.1.0->tensortrade==1.0.4.dev0) (3.3.4)\n",
            "Requirement already satisfied: tensorboard-plugin-wit>=1.6.0 in /usr/local/lib/python3.7/dist-packages (from tensorboard~=2.5->tensorflow>=2.1.0->tensortrade==1.0.4.dev0) (1.8.0)\n",
            "Requirement already satisfied: requests<3,>=2.21.0 in /usr/local/lib/python3.7/dist-packages (from tensorboard~=2.5->tensorflow>=2.1.0->tensortrade==1.0.4.dev0) (2.23.0)\n",
            "Requirement already satisfied: tensorboard-data-server<0.7.0,>=0.6.0 in /usr/local/lib/python3.7/dist-packages (from tensorboard~=2.5->tensorflow>=2.1.0->tensortrade==1.0.4.dev0) (0.6.1)\n",
            "Requirement already satisfied: werkzeug>=0.11.15 in /usr/local/lib/python3.7/dist-packages (from tensorboard~=2.5->tensorflow>=2.1.0->tensortrade==1.0.4.dev0) (1.0.1)\n",
            "Requirement already satisfied: google-auth-oauthlib<0.5,>=0.4.1 in /usr/local/lib/python3.7/dist-packages (from tensorboard~=2.5->tensorflow>=2.1.0->tensortrade==1.0.4.dev0) (0.4.4)\n",
            "Requirement already satisfied: google-auth<2,>=1.6.3 in /usr/local/lib/python3.7/dist-packages (from tensorboard~=2.5->tensorflow>=2.1.0->tensortrade==1.0.4.dev0) (1.30.0)\n",
            "Requirement already satisfied: ptyprocess>=0.5 in /usr/local/lib/python3.7/dist-packages (from pexpect>4.3; sys_platform != \"win32\"->ipython>=7.12.0->tensortrade==1.0.4.dev0) (0.7.0)\n",
            "Requirement already satisfied: parso<0.9.0,>=0.8.0 in /usr/local/lib/python3.7/dist-packages (from jedi>=0.16->ipython>=7.12.0->tensortrade==1.0.4.dev0) (0.8.2)\n",
            "Requirement already satisfied: wcwidth in /usr/local/lib/python3.7/dist-packages (from prompt-toolkit!=3.0.0,!=3.0.1,<3.1.0,>=2.0.0->ipython>=7.12.0->tensortrade==1.0.4.dev0) (0.2.5)\n",
            "Requirement already satisfied: ipython-genutils in /usr/local/lib/python3.7/dist-packages (from traitlets>=4.2->ipython>=7.12.0->tensortrade==1.0.4.dev0) (0.2.0)\n",
            "Requirement already satisfied: importlib-metadata; python_version < \"3.8\" in /usr/local/lib/python3.7/dist-packages (from markdown>=2.6.8->tensorboard~=2.5->tensorflow>=2.1.0->tensortrade==1.0.4.dev0) (4.0.1)\n",
            "Requirement already satisfied: urllib3!=1.25.0,!=1.25.1,<1.26,>=1.21.1 in /usr/local/lib/python3.7/dist-packages (from requests<3,>=2.21.0->tensorboard~=2.5->tensorflow>=2.1.0->tensortrade==1.0.4.dev0) (1.24.3)\n",
            "Requirement already satisfied: idna<3,>=2.5 in /usr/local/lib/python3.7/dist-packages (from requests<3,>=2.21.0->tensorboard~=2.5->tensorflow>=2.1.0->tensortrade==1.0.4.dev0) (2.10)\n",
            "Requirement already satisfied: chardet<4,>=3.0.2 in /usr/local/lib/python3.7/dist-packages (from requests<3,>=2.21.0->tensorboard~=2.5->tensorflow>=2.1.0->tensortrade==1.0.4.dev0) (3.0.4)\n",
            "Requirement already satisfied: certifi>=2017.4.17 in /usr/local/lib/python3.7/dist-packages (from requests<3,>=2.21.0->tensorboard~=2.5->tensorflow>=2.1.0->tensortrade==1.0.4.dev0) (2020.12.5)\n",
            "Requirement already satisfied: requests-oauthlib>=0.7.0 in /usr/local/lib/python3.7/dist-packages (from google-auth-oauthlib<0.5,>=0.4.1->tensorboard~=2.5->tensorflow>=2.1.0->tensortrade==1.0.4.dev0) (1.3.0)\n",
            "Requirement already satisfied: pyasn1-modules>=0.2.1 in /usr/local/lib/python3.7/dist-packages (from google-auth<2,>=1.6.3->tensorboard~=2.5->tensorflow>=2.1.0->tensortrade==1.0.4.dev0) (0.2.8)\n",
            "Requirement already satisfied: cachetools<5.0,>=2.0.0 in /usr/local/lib/python3.7/dist-packages (from google-auth<2,>=1.6.3->tensorboard~=2.5->tensorflow>=2.1.0->tensortrade==1.0.4.dev0) (4.2.2)\n",
            "Requirement already satisfied: rsa<5,>=3.1.4; python_version >= \"3.6\" in /usr/local/lib/python3.7/dist-packages (from google-auth<2,>=1.6.3->tensorboard~=2.5->tensorflow>=2.1.0->tensortrade==1.0.4.dev0) (4.7.2)\n",
            "Requirement already satisfied: zipp>=0.5 in /usr/local/lib/python3.7/dist-packages (from importlib-metadata; python_version < \"3.8\"->markdown>=2.6.8->tensorboard~=2.5->tensorflow>=2.1.0->tensortrade==1.0.4.dev0) (3.4.1)\n",
            "Requirement already satisfied: oauthlib>=3.0.0 in /usr/local/lib/python3.7/dist-packages (from requests-oauthlib>=0.7.0->google-auth-oauthlib<0.5,>=0.4.1->tensorboard~=2.5->tensorflow>=2.1.0->tensortrade==1.0.4.dev0) (3.1.0)\n",
            "Requirement already satisfied: pyasn1<0.5.0,>=0.4.6 in /usr/local/lib/python3.7/dist-packages (from pyasn1-modules>=0.2.1->google-auth<2,>=1.6.3->tensorboard~=2.5->tensorflow>=2.1.0->tensortrade==1.0.4.dev0) (0.4.8)\n",
            "Building wheels for collected packages: tensortrade\n",
            "  Building wheel for tensortrade (setup.py) ... \u001b[?25l\u001b[?25hdone\n",
            "  Created wheel for tensortrade: filename=tensortrade-1.0.4.dev0-cp37-none-any.whl size=134020 sha256=5ad520b423f30e2487c67e596e03a3b029bf29c6f84bf9f2d2e0a4f97421bd1f\n",
            "  Stored in directory: /tmp/pip-ephem-wheel-cache-4ye_k_dz/wheels/e6/47/d1/28241d46a9a2df2f3a6cf4f882a1a66337cade30c68579f6f1\n",
            "Successfully built tensortrade\n",
            "\u001b[31mERROR: jupyter-console 5.2.0 has requirement prompt-toolkit<2.0.0,>=1.0.0, but you'll have prompt-toolkit 3.0.18 which is incompatible.\u001b[0m\n",
            "\u001b[31mERROR: google-colab 1.0.0 has requirement ipython~=5.5.0, but you'll have ipython 7.24.1 which is incompatible.\u001b[0m\n",
            "Installing collected packages: pyyaml, stochastic, prompt-toolkit, ipython, plotly, tensortrade\n",
            "  Found existing installation: PyYAML 3.13\n",
            "    Uninstalling PyYAML-3.13:\n",
            "      Successfully uninstalled PyYAML-3.13\n",
            "  Found existing installation: prompt-toolkit 1.0.18\n",
            "    Uninstalling prompt-toolkit-1.0.18:\n",
            "      Successfully uninstalled prompt-toolkit-1.0.18\n",
            "  Found existing installation: ipython 5.5.0\n",
            "    Uninstalling ipython-5.5.0:\n",
            "      Successfully uninstalled ipython-5.5.0\n",
            "  Found existing installation: plotly 4.4.1\n",
            "    Uninstalling plotly-4.4.1:\n",
            "      Successfully uninstalled plotly-4.4.1\n",
            "Successfully installed ipython-7.24.1 plotly-4.14.3 prompt-toolkit-3.0.18 pyyaml-5.4.1 stochastic-0.6.0 tensortrade-1.0.4.dev0\n"
          ],
          "name": "stdout"
        },
        {
          "output_type": "display_data",
          "data": {
            "application/vnd.colab-display-data+json": {
              "pip_warning": {
                "packages": [
                  "IPython",
                  "prompt_toolkit"
                ]
              }
            }
          },
          "metadata": {
            "tags": []
          }
        }
      ]
    },
    {
      "cell_type": "code",
      "metadata": {
        "colab": {
          "base_uri": "https://localhost:8080/",
          "height": 1000
        },
        "id": "aWFAUqdB4yNk",
        "outputId": "96ba265d-4ff4-4003-8e28-2e7675d3a744"
      },
      "source": [
        "pip install git+https://github.com/notadamking/tensortrade.git#egg=tensortrade[tf,tensorforce,baselines,ccxt,ta,fbm] -U"
      ],
      "execution_count": null,
      "outputs": [
        {
          "output_type": "stream",
          "text": [
            "Collecting tensortrade[baselines,ccxt,fbm,ta,tensorforce,tf]\n",
            "  Cloning https://github.com/notadamking/tensortrade.git to /tmp/pip-install-ha9mmp28/tensortrade\n",
            "  Running command git clone -q https://github.com/notadamking/tensortrade.git /tmp/pip-install-ha9mmp28/tensortrade\n",
            "\u001b[33m  WARNING: tensortrade 1.0.4.dev0 does not provide the extra 'baselines'\u001b[0m\n",
            "\u001b[33m  WARNING: tensortrade 1.0.4.dev0 does not provide the extra 'ccxt'\u001b[0m\n",
            "\u001b[33m  WARNING: tensortrade 1.0.4.dev0 does not provide the extra 'fbm'\u001b[0m\n",
            "\u001b[33m  WARNING: tensortrade 1.0.4.dev0 does not provide the extra 'ta'\u001b[0m\n",
            "\u001b[33m  WARNING: tensortrade 1.0.4.dev0 does not provide the extra 'tensorforce'\u001b[0m\n",
            "\u001b[33m  WARNING: tensortrade 1.0.4.dev0 does not provide the extra 'tf'\u001b[0m\n",
            "Requirement already satisfied, skipping upgrade: numpy>=1.17.0 in /usr/local/lib/python3.7/dist-packages (from tensortrade[baselines,ccxt,fbm,ta,tensorforce,tf]) (1.19.5)\n",
            "Requirement already satisfied, skipping upgrade: pandas>=0.25.0 in /usr/local/lib/python3.7/dist-packages (from tensortrade[baselines,ccxt,fbm,ta,tensorforce,tf]) (1.1.5)\n",
            "Requirement already satisfied, skipping upgrade: gym>=0.14.0 in /usr/local/lib/python3.7/dist-packages (from tensortrade[baselines,ccxt,fbm,ta,tensorforce,tf]) (0.18.3)\n",
            "Requirement already satisfied, skipping upgrade: pyyaml>=5.1.2 in /usr/local/lib/python3.7/dist-packages (from tensortrade[baselines,ccxt,fbm,ta,tensorforce,tf]) (5.4.1)\n",
            "Requirement already satisfied, skipping upgrade: stochastic>=0.6.0 in /usr/local/lib/python3.7/dist-packages (from tensortrade[baselines,ccxt,fbm,ta,tensorforce,tf]) (0.6.0)\n",
            "Requirement already satisfied, skipping upgrade: tensorflow>=2.1.0 in /usr/local/lib/python3.7/dist-packages (from tensortrade[baselines,ccxt,fbm,ta,tensorforce,tf]) (2.5.0)\n",
            "Requirement already satisfied, skipping upgrade: ipython>=7.12.0 in /usr/local/lib/python3.7/dist-packages (from tensortrade[baselines,ccxt,fbm,ta,tensorforce,tf]) (7.24.1)\n",
            "Requirement already satisfied, skipping upgrade: matplotlib>=3.1.1 in /usr/local/lib/python3.7/dist-packages (from tensortrade[baselines,ccxt,fbm,ta,tensorforce,tf]) (3.4.2)\n",
            "Requirement already satisfied, skipping upgrade: plotly>=4.5.0 in /usr/local/lib/python3.7/dist-packages (from tensortrade[baselines,ccxt,fbm,ta,tensorforce,tf]) (4.14.3)\n",
            "Requirement already satisfied, skipping upgrade: python-dateutil>=2.7.3 in /usr/local/lib/python3.7/dist-packages (from pandas>=0.25.0->tensortrade[baselines,ccxt,fbm,ta,tensorforce,tf]) (2.8.1)\n",
            "Requirement already satisfied, skipping upgrade: pytz>=2017.2 in /usr/local/lib/python3.7/dist-packages (from pandas>=0.25.0->tensortrade[baselines,ccxt,fbm,ta,tensorforce,tf]) (2018.9)\n",
            "Requirement already satisfied, skipping upgrade: cloudpickle<1.7.0,>=1.2.0 in /usr/local/lib/python3.7/dist-packages (from gym>=0.14.0->tensortrade[baselines,ccxt,fbm,ta,tensorforce,tf]) (1.3.0)\n",
            "Requirement already satisfied, skipping upgrade: Pillow<=8.2.0 in /usr/local/lib/python3.7/dist-packages (from gym>=0.14.0->tensortrade[baselines,ccxt,fbm,ta,tensorforce,tf]) (8.2.0)\n",
            "Requirement already satisfied, skipping upgrade: scipy in /usr/local/lib/python3.7/dist-packages (from gym>=0.14.0->tensortrade[baselines,ccxt,fbm,ta,tensorforce,tf]) (1.4.1)\n",
            "Requirement already satisfied, skipping upgrade: pyglet<=1.5.15,>=1.4.0 in /usr/local/lib/python3.7/dist-packages (from gym>=0.14.0->tensortrade[baselines,ccxt,fbm,ta,tensorforce,tf]) (1.5.0)\n",
            "Requirement already satisfied, skipping upgrade: keras-nightly~=2.5.0.dev in /usr/local/lib/python3.7/dist-packages (from tensorflow>=2.1.0->tensortrade[baselines,ccxt,fbm,ta,tensorforce,tf]) (2.5.0.dev2021032900)\n",
            "Requirement already satisfied, skipping upgrade: grpcio~=1.34.0 in /usr/local/lib/python3.7/dist-packages (from tensorflow>=2.1.0->tensortrade[baselines,ccxt,fbm,ta,tensorforce,tf]) (1.34.1)\n",
            "Requirement already satisfied, skipping upgrade: protobuf>=3.9.2 in /usr/local/lib/python3.7/dist-packages (from tensorflow>=2.1.0->tensortrade[baselines,ccxt,fbm,ta,tensorforce,tf]) (3.12.4)\n",
            "Requirement already satisfied, skipping upgrade: opt-einsum~=3.3.0 in /usr/local/lib/python3.7/dist-packages (from tensorflow>=2.1.0->tensortrade[baselines,ccxt,fbm,ta,tensorforce,tf]) (3.3.0)\n",
            "Requirement already satisfied, skipping upgrade: typing-extensions~=3.7.4 in /usr/local/lib/python3.7/dist-packages (from tensorflow>=2.1.0->tensortrade[baselines,ccxt,fbm,ta,tensorforce,tf]) (3.7.4.3)\n",
            "Requirement already satisfied, skipping upgrade: six~=1.15.0 in /usr/local/lib/python3.7/dist-packages (from tensorflow>=2.1.0->tensortrade[baselines,ccxt,fbm,ta,tensorforce,tf]) (1.15.0)\n",
            "Requirement already satisfied, skipping upgrade: flatbuffers~=1.12.0 in /usr/local/lib/python3.7/dist-packages (from tensorflow>=2.1.0->tensortrade[baselines,ccxt,fbm,ta,tensorforce,tf]) (1.12)\n",
            "Requirement already satisfied, skipping upgrade: google-pasta~=0.2 in /usr/local/lib/python3.7/dist-packages (from tensorflow>=2.1.0->tensortrade[baselines,ccxt,fbm,ta,tensorforce,tf]) (0.2.0)\n",
            "Requirement already satisfied, skipping upgrade: absl-py~=0.10 in /usr/local/lib/python3.7/dist-packages (from tensorflow>=2.1.0->tensortrade[baselines,ccxt,fbm,ta,tensorforce,tf]) (0.12.0)\n",
            "Requirement already satisfied, skipping upgrade: gast==0.4.0 in /usr/local/lib/python3.7/dist-packages (from tensorflow>=2.1.0->tensortrade[baselines,ccxt,fbm,ta,tensorforce,tf]) (0.4.0)\n",
            "Requirement already satisfied, skipping upgrade: wheel~=0.35 in /usr/local/lib/python3.7/dist-packages (from tensorflow>=2.1.0->tensortrade[baselines,ccxt,fbm,ta,tensorforce,tf]) (0.36.2)\n",
            "Requirement already satisfied, skipping upgrade: keras-preprocessing~=1.1.2 in /usr/local/lib/python3.7/dist-packages (from tensorflow>=2.1.0->tensortrade[baselines,ccxt,fbm,ta,tensorforce,tf]) (1.1.2)\n",
            "Requirement already satisfied, skipping upgrade: termcolor~=1.1.0 in /usr/local/lib/python3.7/dist-packages (from tensorflow>=2.1.0->tensortrade[baselines,ccxt,fbm,ta,tensorforce,tf]) (1.1.0)\n",
            "Requirement already satisfied, skipping upgrade: wrapt~=1.12.1 in /usr/local/lib/python3.7/dist-packages (from tensorflow>=2.1.0->tensortrade[baselines,ccxt,fbm,ta,tensorforce,tf]) (1.12.1)\n",
            "Requirement already satisfied, skipping upgrade: astunparse~=1.6.3 in /usr/local/lib/python3.7/dist-packages (from tensorflow>=2.1.0->tensortrade[baselines,ccxt,fbm,ta,tensorforce,tf]) (1.6.3)\n",
            "Requirement already satisfied, skipping upgrade: tensorflow-estimator<2.6.0,>=2.5.0rc0 in /usr/local/lib/python3.7/dist-packages (from tensorflow>=2.1.0->tensortrade[baselines,ccxt,fbm,ta,tensorforce,tf]) (2.5.0)\n",
            "Requirement already satisfied, skipping upgrade: tensorboard~=2.5 in /usr/local/lib/python3.7/dist-packages (from tensorflow>=2.1.0->tensortrade[baselines,ccxt,fbm,ta,tensorforce,tf]) (2.5.0)\n",
            "Requirement already satisfied, skipping upgrade: h5py~=3.1.0 in /usr/local/lib/python3.7/dist-packages (from tensorflow>=2.1.0->tensortrade[baselines,ccxt,fbm,ta,tensorforce,tf]) (3.1.0)\n",
            "Requirement already satisfied, skipping upgrade: traitlets>=4.2 in /usr/local/lib/python3.7/dist-packages (from ipython>=7.12.0->tensortrade[baselines,ccxt,fbm,ta,tensorforce,tf]) (5.0.5)\n",
            "Requirement already satisfied, skipping upgrade: pexpect>4.3; sys_platform != \"win32\" in /usr/local/lib/python3.7/dist-packages (from ipython>=7.12.0->tensortrade[baselines,ccxt,fbm,ta,tensorforce,tf]) (4.8.0)\n",
            "Requirement already satisfied, skipping upgrade: jedi>=0.16 in /usr/local/lib/python3.7/dist-packages (from ipython>=7.12.0->tensortrade[baselines,ccxt,fbm,ta,tensorforce,tf]) (0.18.0)\n",
            "Requirement already satisfied, skipping upgrade: pygments in /usr/local/lib/python3.7/dist-packages (from ipython>=7.12.0->tensortrade[baselines,ccxt,fbm,ta,tensorforce,tf]) (2.6.1)\n",
            "Requirement already satisfied, skipping upgrade: prompt-toolkit!=3.0.0,!=3.0.1,<3.1.0,>=2.0.0 in /usr/local/lib/python3.7/dist-packages (from ipython>=7.12.0->tensortrade[baselines,ccxt,fbm,ta,tensorforce,tf]) (3.0.18)\n",
            "Requirement already satisfied, skipping upgrade: matplotlib-inline in /usr/local/lib/python3.7/dist-packages (from ipython>=7.12.0->tensortrade[baselines,ccxt,fbm,ta,tensorforce,tf]) (0.1.2)\n",
            "Requirement already satisfied, skipping upgrade: decorator in /usr/local/lib/python3.7/dist-packages (from ipython>=7.12.0->tensortrade[baselines,ccxt,fbm,ta,tensorforce,tf]) (4.4.2)\n",
            "Requirement already satisfied, skipping upgrade: setuptools>=18.5 in /usr/local/lib/python3.7/dist-packages (from ipython>=7.12.0->tensortrade[baselines,ccxt,fbm,ta,tensorforce,tf]) (57.0.0)\n",
            "Requirement already satisfied, skipping upgrade: backcall in /usr/local/lib/python3.7/dist-packages (from ipython>=7.12.0->tensortrade[baselines,ccxt,fbm,ta,tensorforce,tf]) (0.2.0)\n",
            "Requirement already satisfied, skipping upgrade: pickleshare in /usr/local/lib/python3.7/dist-packages (from ipython>=7.12.0->tensortrade[baselines,ccxt,fbm,ta,tensorforce,tf]) (0.7.5)\n",
            "Requirement already satisfied, skipping upgrade: pyparsing>=2.2.1 in /usr/local/lib/python3.7/dist-packages (from matplotlib>=3.1.1->tensortrade[baselines,ccxt,fbm,ta,tensorforce,tf]) (2.4.7)\n",
            "Requirement already satisfied, skipping upgrade: kiwisolver>=1.0.1 in /usr/local/lib/python3.7/dist-packages (from matplotlib>=3.1.1->tensortrade[baselines,ccxt,fbm,ta,tensorforce,tf]) (1.3.1)\n",
            "Requirement already satisfied, skipping upgrade: cycler>=0.10 in /usr/local/lib/python3.7/dist-packages (from matplotlib>=3.1.1->tensortrade[baselines,ccxt,fbm,ta,tensorforce,tf]) (0.10.0)\n",
            "Requirement already satisfied, skipping upgrade: retrying>=1.3.3 in /usr/local/lib/python3.7/dist-packages (from plotly>=4.5.0->tensortrade[baselines,ccxt,fbm,ta,tensorforce,tf]) (1.3.3)\n",
            "Requirement already satisfied, skipping upgrade: future in /usr/local/lib/python3.7/dist-packages (from pyglet<=1.5.15,>=1.4.0->gym>=0.14.0->tensortrade[baselines,ccxt,fbm,ta,tensorforce,tf]) (0.16.0)\n",
            "Requirement already satisfied, skipping upgrade: tensorboard-plugin-wit>=1.6.0 in /usr/local/lib/python3.7/dist-packages (from tensorboard~=2.5->tensorflow>=2.1.0->tensortrade[baselines,ccxt,fbm,ta,tensorforce,tf]) (1.8.0)\n",
            "Requirement already satisfied, skipping upgrade: requests<3,>=2.21.0 in /usr/local/lib/python3.7/dist-packages (from tensorboard~=2.5->tensorflow>=2.1.0->tensortrade[baselines,ccxt,fbm,ta,tensorforce,tf]) (2.23.0)\n",
            "Requirement already satisfied, skipping upgrade: markdown>=2.6.8 in /usr/local/lib/python3.7/dist-packages (from tensorboard~=2.5->tensorflow>=2.1.0->tensortrade[baselines,ccxt,fbm,ta,tensorforce,tf]) (3.3.4)\n",
            "Requirement already satisfied, skipping upgrade: google-auth<2,>=1.6.3 in /usr/local/lib/python3.7/dist-packages (from tensorboard~=2.5->tensorflow>=2.1.0->tensortrade[baselines,ccxt,fbm,ta,tensorforce,tf]) (1.30.0)\n",
            "Requirement already satisfied, skipping upgrade: tensorboard-data-server<0.7.0,>=0.6.0 in /usr/local/lib/python3.7/dist-packages (from tensorboard~=2.5->tensorflow>=2.1.0->tensortrade[baselines,ccxt,fbm,ta,tensorforce,tf]) (0.6.1)\n",
            "Requirement already satisfied, skipping upgrade: werkzeug>=0.11.15 in /usr/local/lib/python3.7/dist-packages (from tensorboard~=2.5->tensorflow>=2.1.0->tensortrade[baselines,ccxt,fbm,ta,tensorforce,tf]) (1.0.1)\n",
            "Requirement already satisfied, skipping upgrade: google-auth-oauthlib<0.5,>=0.4.1 in /usr/local/lib/python3.7/dist-packages (from tensorboard~=2.5->tensorflow>=2.1.0->tensortrade[baselines,ccxt,fbm,ta,tensorforce,tf]) (0.4.4)\n",
            "Requirement already satisfied, skipping upgrade: cached-property; python_version < \"3.8\" in /usr/local/lib/python3.7/dist-packages (from h5py~=3.1.0->tensorflow>=2.1.0->tensortrade[baselines,ccxt,fbm,ta,tensorforce,tf]) (1.5.2)\n",
            "Requirement already satisfied, skipping upgrade: ipython-genutils in /usr/local/lib/python3.7/dist-packages (from traitlets>=4.2->ipython>=7.12.0->tensortrade[baselines,ccxt,fbm,ta,tensorforce,tf]) (0.2.0)\n",
            "Requirement already satisfied, skipping upgrade: ptyprocess>=0.5 in /usr/local/lib/python3.7/dist-packages (from pexpect>4.3; sys_platform != \"win32\"->ipython>=7.12.0->tensortrade[baselines,ccxt,fbm,ta,tensorforce,tf]) (0.7.0)\n",
            "Requirement already satisfied, skipping upgrade: parso<0.9.0,>=0.8.0 in /usr/local/lib/python3.7/dist-packages (from jedi>=0.16->ipython>=7.12.0->tensortrade[baselines,ccxt,fbm,ta,tensorforce,tf]) (0.8.2)\n",
            "Requirement already satisfied, skipping upgrade: wcwidth in /usr/local/lib/python3.7/dist-packages (from prompt-toolkit!=3.0.0,!=3.0.1,<3.1.0,>=2.0.0->ipython>=7.12.0->tensortrade[baselines,ccxt,fbm,ta,tensorforce,tf]) (0.2.5)\n",
            "Requirement already satisfied, skipping upgrade: certifi>=2017.4.17 in /usr/local/lib/python3.7/dist-packages (from requests<3,>=2.21.0->tensorboard~=2.5->tensorflow>=2.1.0->tensortrade[baselines,ccxt,fbm,ta,tensorforce,tf]) (2020.12.5)\n",
            "Requirement already satisfied, skipping upgrade: idna<3,>=2.5 in /usr/local/lib/python3.7/dist-packages (from requests<3,>=2.21.0->tensorboard~=2.5->tensorflow>=2.1.0->tensortrade[baselines,ccxt,fbm,ta,tensorforce,tf]) (2.10)\n",
            "Requirement already satisfied, skipping upgrade: chardet<4,>=3.0.2 in /usr/local/lib/python3.7/dist-packages (from requests<3,>=2.21.0->tensorboard~=2.5->tensorflow>=2.1.0->tensortrade[baselines,ccxt,fbm,ta,tensorforce,tf]) (3.0.4)\n",
            "Requirement already satisfied, skipping upgrade: urllib3!=1.25.0,!=1.25.1,<1.26,>=1.21.1 in /usr/local/lib/python3.7/dist-packages (from requests<3,>=2.21.0->tensorboard~=2.5->tensorflow>=2.1.0->tensortrade[baselines,ccxt,fbm,ta,tensorforce,tf]) (1.24.3)\n",
            "Requirement already satisfied, skipping upgrade: importlib-metadata; python_version < \"3.8\" in /usr/local/lib/python3.7/dist-packages (from markdown>=2.6.8->tensorboard~=2.5->tensorflow>=2.1.0->tensortrade[baselines,ccxt,fbm,ta,tensorforce,tf]) (4.0.1)\n",
            "Requirement already satisfied, skipping upgrade: pyasn1-modules>=0.2.1 in /usr/local/lib/python3.7/dist-packages (from google-auth<2,>=1.6.3->tensorboard~=2.5->tensorflow>=2.1.0->tensortrade[baselines,ccxt,fbm,ta,tensorforce,tf]) (0.2.8)\n",
            "Requirement already satisfied, skipping upgrade: rsa<5,>=3.1.4; python_version >= \"3.6\" in /usr/local/lib/python3.7/dist-packages (from google-auth<2,>=1.6.3->tensorboard~=2.5->tensorflow>=2.1.0->tensortrade[baselines,ccxt,fbm,ta,tensorforce,tf]) (4.7.2)\n",
            "Requirement already satisfied, skipping upgrade: cachetools<5.0,>=2.0.0 in /usr/local/lib/python3.7/dist-packages (from google-auth<2,>=1.6.3->tensorboard~=2.5->tensorflow>=2.1.0->tensortrade[baselines,ccxt,fbm,ta,tensorforce,tf]) (4.2.2)\n",
            "Requirement already satisfied, skipping upgrade: requests-oauthlib>=0.7.0 in /usr/local/lib/python3.7/dist-packages (from google-auth-oauthlib<0.5,>=0.4.1->tensorboard~=2.5->tensorflow>=2.1.0->tensortrade[baselines,ccxt,fbm,ta,tensorforce,tf]) (1.3.0)\n",
            "Requirement already satisfied, skipping upgrade: zipp>=0.5 in /usr/local/lib/python3.7/dist-packages (from importlib-metadata; python_version < \"3.8\"->markdown>=2.6.8->tensorboard~=2.5->tensorflow>=2.1.0->tensortrade[baselines,ccxt,fbm,ta,tensorforce,tf]) (3.4.1)\n",
            "Requirement already satisfied, skipping upgrade: pyasn1<0.5.0,>=0.4.6 in /usr/local/lib/python3.7/dist-packages (from pyasn1-modules>=0.2.1->google-auth<2,>=1.6.3->tensorboard~=2.5->tensorflow>=2.1.0->tensortrade[baselines,ccxt,fbm,ta,tensorforce,tf]) (0.4.8)\n",
            "Requirement already satisfied, skipping upgrade: oauthlib>=3.0.0 in /usr/local/lib/python3.7/dist-packages (from requests-oauthlib>=0.7.0->google-auth-oauthlib<0.5,>=0.4.1->tensorboard~=2.5->tensorflow>=2.1.0->tensortrade[baselines,ccxt,fbm,ta,tensorforce,tf]) (3.1.0)\n",
            "Building wheels for collected packages: tensortrade\n",
            "  Building wheel for tensortrade (setup.py) ... \u001b[?25l\u001b[?25hdone\n",
            "  Created wheel for tensortrade: filename=tensortrade-1.0.4.dev0-cp37-none-any.whl size=134020 sha256=3f5a9af1b57c52e79083b0d30acd959d939fa23ef3d486f03b1335e10976ef1c\n",
            "  Stored in directory: /tmp/pip-ephem-wheel-cache-pqel6evb/wheels/e6/47/d1/28241d46a9a2df2f3a6cf4f882a1a66337cade30c68579f6f1\n",
            "Successfully built tensortrade\n",
            "Installing collected packages: tensortrade\n",
            "  Found existing installation: tensortrade 1.0.4.dev0\n",
            "    Uninstalling tensortrade-1.0.4.dev0:\n",
            "      Successfully uninstalled tensortrade-1.0.4.dev0\n",
            "Successfully installed tensortrade-1.0.4.dev0\n"
          ],
          "name": "stdout"
        },
        {
          "output_type": "display_data",
          "data": {
            "application/vnd.colab-display-data+json": {
              "pip_warning": {
                "packages": [
                  "tensortrade"
                ]
              }
            }
          },
          "metadata": {
            "tags": []
          }
        }
      ]
    },
    {
      "cell_type": "code",
      "metadata": {
        "colab": {
          "base_uri": "https://localhost:8080/"
        },
        "id": "jirAzKiNzCSM",
        "outputId": "e1f617a8-89da-44bc-f325-f85abbf38c97"
      },
      "source": [
        "!pip install -e ..[tf,tensorforce,baselines,ccxt,fbm] -U"
      ],
      "execution_count": null,
      "outputs": [
        {
          "output_type": "stream",
          "text": [
            "\u001b[31mERROR: File \"setup.py\" not found. Directory cannot be installed in editable mode: /\u001b[0m\n"
          ],
          "name": "stdout"
        }
      ]
    },
    {
      "cell_type": "code",
      "metadata": {
        "colab": {
          "base_uri": "https://localhost:8080/"
        },
        "id": "SzvKmDC804EC",
        "outputId": "d6fc5f15-9652-4539-f18b-331d5b38159b"
      },
      "source": [
        "!pip install tf"
      ],
      "execution_count": null,
      "outputs": [
        {
          "output_type": "stream",
          "text": [
            "Collecting tf\n",
            "  Downloading https://files.pythonhosted.org/packages/6a/45/bb735169c261b0711570ee2f63d3a2f552a156eb859a408bb8e1cdff4aab/tf-1.0.0.tar.gz\n",
            "Building wheels for collected packages: tf\n",
            "  Building wheel for tf (setup.py) ... \u001b[?25l\u001b[?25hdone\n",
            "  Created wheel for tf: filename=tf-1.0.0-cp37-none-any.whl size=1283 sha256=aeb563f63abc06c9f3689394fb332a1c98a9ac0c29876e0774a8b97d2ec8af7f\n",
            "  Stored in directory: /root/.cache/pip/wheels/7c/51/42/b034446bd6c8252825a1a0e7799b6ff633de376967db5ed5a6\n",
            "Successfully built tf\n",
            "Installing collected packages: tf\n",
            "Successfully installed tf-1.0.0\n"
          ],
          "name": "stdout"
        }
      ]
    },
    {
      "cell_type": "code",
      "metadata": {
        "colab": {
          "base_uri": "https://localhost:8080/"
        },
        "id": "gecEYRMV07v3",
        "outputId": "a016d665-ddd6-47f2-a601-418be48544f8"
      },
      "source": [
        "!pip install ccxt"
      ],
      "execution_count": null,
      "outputs": [
        {
          "output_type": "stream",
          "text": [
            "Collecting ccxt\n",
            "\u001b[?25l  Downloading https://files.pythonhosted.org/packages/be/ec/68df4e4331d8412a85fe12adfdd66b19ffb08841a6463c26049e0bb2a76a/ccxt-1.51.40-py2.py3-none-any.whl (2.0MB)\n",
            "\r\u001b[K     |▏                               | 10kB 15.0MB/s eta 0:00:01\r\u001b[K     |▎                               | 20kB 21.3MB/s eta 0:00:01\r\u001b[K     |▌                               | 30kB 18.4MB/s eta 0:00:01\r\u001b[K     |▋                               | 40kB 16.0MB/s eta 0:00:01\r\u001b[K     |▉                               | 51kB 8.1MB/s eta 0:00:01\r\u001b[K     |█                               | 61kB 7.1MB/s eta 0:00:01\r\u001b[K     |█▏                              | 71kB 7.8MB/s eta 0:00:01\r\u001b[K     |█▎                              | 81kB 8.7MB/s eta 0:00:01\r\u001b[K     |█▌                              | 92kB 9.4MB/s eta 0:00:01\r\u001b[K     |█▋                              | 102kB 7.7MB/s eta 0:00:01\r\u001b[K     |█▉                              | 112kB 7.7MB/s eta 0:00:01\r\u001b[K     |██                              | 122kB 7.7MB/s eta 0:00:01\r\u001b[K     |██                              | 133kB 7.7MB/s eta 0:00:01\r\u001b[K     |██▎                             | 143kB 7.7MB/s eta 0:00:01\r\u001b[K     |██▍                             | 153kB 7.7MB/s eta 0:00:01\r\u001b[K     |██▋                             | 163kB 7.7MB/s eta 0:00:01\r\u001b[K     |██▊                             | 174kB 7.7MB/s eta 0:00:01\r\u001b[K     |███                             | 184kB 7.7MB/s eta 0:00:01\r\u001b[K     |███                             | 194kB 7.7MB/s eta 0:00:01\r\u001b[K     |███▎                            | 204kB 7.7MB/s eta 0:00:01\r\u001b[K     |███▍                            | 215kB 7.7MB/s eta 0:00:01\r\u001b[K     |███▋                            | 225kB 7.7MB/s eta 0:00:01\r\u001b[K     |███▊                            | 235kB 7.7MB/s eta 0:00:01\r\u001b[K     |████                            | 245kB 7.7MB/s eta 0:00:01\r\u001b[K     |████                            | 256kB 7.7MB/s eta 0:00:01\r\u001b[K     |████▏                           | 266kB 7.7MB/s eta 0:00:01\r\u001b[K     |████▍                           | 276kB 7.7MB/s eta 0:00:01\r\u001b[K     |████▌                           | 286kB 7.7MB/s eta 0:00:01\r\u001b[K     |████▊                           | 296kB 7.7MB/s eta 0:00:01\r\u001b[K     |████▉                           | 307kB 7.7MB/s eta 0:00:01\r\u001b[K     |█████                           | 317kB 7.7MB/s eta 0:00:01\r\u001b[K     |█████▏                          | 327kB 7.7MB/s eta 0:00:01\r\u001b[K     |█████▍                          | 337kB 7.7MB/s eta 0:00:01\r\u001b[K     |█████▌                          | 348kB 7.7MB/s eta 0:00:01\r\u001b[K     |█████▊                          | 358kB 7.7MB/s eta 0:00:01\r\u001b[K     |█████▉                          | 368kB 7.7MB/s eta 0:00:01\r\u001b[K     |██████                          | 378kB 7.7MB/s eta 0:00:01\r\u001b[K     |██████▏                         | 389kB 7.7MB/s eta 0:00:01\r\u001b[K     |██████▎                         | 399kB 7.7MB/s eta 0:00:01\r\u001b[K     |██████▌                         | 409kB 7.7MB/s eta 0:00:01\r\u001b[K     |██████▋                         | 419kB 7.7MB/s eta 0:00:01\r\u001b[K     |██████▉                         | 430kB 7.7MB/s eta 0:00:01\r\u001b[K     |███████                         | 440kB 7.7MB/s eta 0:00:01\r\u001b[K     |███████▏                        | 450kB 7.7MB/s eta 0:00:01\r\u001b[K     |███████▎                        | 460kB 7.7MB/s eta 0:00:01\r\u001b[K     |███████▌                        | 471kB 7.7MB/s eta 0:00:01\r\u001b[K     |███████▋                        | 481kB 7.7MB/s eta 0:00:01\r\u001b[K     |███████▉                        | 491kB 7.7MB/s eta 0:00:01\r\u001b[K     |████████                        | 501kB 7.7MB/s eta 0:00:01\r\u001b[K     |████████                        | 512kB 7.7MB/s eta 0:00:01\r\u001b[K     |████████▎                       | 522kB 7.7MB/s eta 0:00:01\r\u001b[K     |████████▍                       | 532kB 7.7MB/s eta 0:00:01\r\u001b[K     |████████▋                       | 542kB 7.7MB/s eta 0:00:01\r\u001b[K     |████████▊                       | 552kB 7.7MB/s eta 0:00:01\r\u001b[K     |█████████                       | 563kB 7.7MB/s eta 0:00:01\r\u001b[K     |█████████                       | 573kB 7.7MB/s eta 0:00:01\r\u001b[K     |█████████▎                      | 583kB 7.7MB/s eta 0:00:01\r\u001b[K     |█████████▍                      | 593kB 7.7MB/s eta 0:00:01\r\u001b[K     |█████████▋                      | 604kB 7.7MB/s eta 0:00:01\r\u001b[K     |█████████▊                      | 614kB 7.7MB/s eta 0:00:01\r\u001b[K     |██████████                      | 624kB 7.7MB/s eta 0:00:01\r\u001b[K     |██████████                      | 634kB 7.7MB/s eta 0:00:01\r\u001b[K     |██████████▏                     | 645kB 7.7MB/s eta 0:00:01\r\u001b[K     |██████████▍                     | 655kB 7.7MB/s eta 0:00:01\r\u001b[K     |██████████▌                     | 665kB 7.7MB/s eta 0:00:01\r\u001b[K     |██████████▊                     | 675kB 7.7MB/s eta 0:00:01\r\u001b[K     |██████████▉                     | 686kB 7.7MB/s eta 0:00:01\r\u001b[K     |███████████                     | 696kB 7.7MB/s eta 0:00:01\r\u001b[K     |███████████▏                    | 706kB 7.7MB/s eta 0:00:01\r\u001b[K     |███████████▍                    | 716kB 7.7MB/s eta 0:00:01\r\u001b[K     |███████████▌                    | 727kB 7.7MB/s eta 0:00:01\r\u001b[K     |███████████▊                    | 737kB 7.7MB/s eta 0:00:01\r\u001b[K     |███████████▉                    | 747kB 7.7MB/s eta 0:00:01\r\u001b[K     |████████████                    | 757kB 7.7MB/s eta 0:00:01\r\u001b[K     |████████████▏                   | 768kB 7.7MB/s eta 0:00:01\r\u001b[K     |████████████▎                   | 778kB 7.7MB/s eta 0:00:01\r\u001b[K     |████████████▌                   | 788kB 7.7MB/s eta 0:00:01\r\u001b[K     |████████████▋                   | 798kB 7.7MB/s eta 0:00:01\r\u001b[K     |████████████▉                   | 808kB 7.7MB/s eta 0:00:01\r\u001b[K     |█████████████                   | 819kB 7.7MB/s eta 0:00:01\r\u001b[K     |█████████████▏                  | 829kB 7.7MB/s eta 0:00:01\r\u001b[K     |█████████████▎                  | 839kB 7.7MB/s eta 0:00:01\r\u001b[K     |█████████████▌                  | 849kB 7.7MB/s eta 0:00:01\r\u001b[K     |█████████████▋                  | 860kB 7.7MB/s eta 0:00:01\r\u001b[K     |█████████████▉                  | 870kB 7.7MB/s eta 0:00:01\r\u001b[K     |██████████████                  | 880kB 7.7MB/s eta 0:00:01\r\u001b[K     |██████████████▏                 | 890kB 7.7MB/s eta 0:00:01\r\u001b[K     |██████████████▎                 | 901kB 7.7MB/s eta 0:00:01\r\u001b[K     |██████████████▍                 | 911kB 7.7MB/s eta 0:00:01\r\u001b[K     |██████████████▋                 | 921kB 7.7MB/s eta 0:00:01\r\u001b[K     |██████████████▊                 | 931kB 7.7MB/s eta 0:00:01\r\u001b[K     |███████████████                 | 942kB 7.7MB/s eta 0:00:01\r\u001b[K     |███████████████                 | 952kB 7.7MB/s eta 0:00:01\r\u001b[K     |███████████████▎                | 962kB 7.7MB/s eta 0:00:01\r\u001b[K     |███████████████▍                | 972kB 7.7MB/s eta 0:00:01\r\u001b[K     |███████████████▋                | 983kB 7.7MB/s eta 0:00:01\r\u001b[K     |███████████████▊                | 993kB 7.7MB/s eta 0:00:01\r\u001b[K     |████████████████                | 1.0MB 7.7MB/s eta 0:00:01\r\u001b[K     |████████████████                | 1.0MB 7.7MB/s eta 0:00:01\r\u001b[K     |████████████████▏               | 1.0MB 7.7MB/s eta 0:00:01\r\u001b[K     |████████████████▍               | 1.0MB 7.7MB/s eta 0:00:01\r\u001b[K     |████████████████▌               | 1.0MB 7.7MB/s eta 0:00:01\r\u001b[K     |████████████████▊               | 1.1MB 7.7MB/s eta 0:00:01\r\u001b[K     |████████████████▉               | 1.1MB 7.7MB/s eta 0:00:01\r\u001b[K     |█████████████████               | 1.1MB 7.7MB/s eta 0:00:01\r\u001b[K     |█████████████████▏              | 1.1MB 7.7MB/s eta 0:00:01\r\u001b[K     |█████████████████▍              | 1.1MB 7.7MB/s eta 0:00:01\r\u001b[K     |█████████████████▌              | 1.1MB 7.7MB/s eta 0:00:01\r\u001b[K     |█████████████████▊              | 1.1MB 7.7MB/s eta 0:00:01\r\u001b[K     |█████████████████▉              | 1.1MB 7.7MB/s eta 0:00:01\r\u001b[K     |██████████████████              | 1.1MB 7.7MB/s eta 0:00:01\r\u001b[K     |██████████████████▏             | 1.1MB 7.7MB/s eta 0:00:01\r\u001b[K     |██████████████████▎             | 1.2MB 7.7MB/s eta 0:00:01\r\u001b[K     |██████████████████▌             | 1.2MB 7.7MB/s eta 0:00:01\r\u001b[K     |██████████████████▋             | 1.2MB 7.7MB/s eta 0:00:01\r\u001b[K     |██████████████████▉             | 1.2MB 7.7MB/s eta 0:00:01\r\u001b[K     |███████████████████             | 1.2MB 7.7MB/s eta 0:00:01\r\u001b[K     |███████████████████▏            | 1.2MB 7.7MB/s eta 0:00:01\r\u001b[K     |███████████████████▎            | 1.2MB 7.7MB/s eta 0:00:01\r\u001b[K     |███████████████████▌            | 1.2MB 7.7MB/s eta 0:00:01\r\u001b[K     |███████████████████▋            | 1.2MB 7.7MB/s eta 0:00:01\r\u001b[K     |███████████████████▉            | 1.2MB 7.7MB/s eta 0:00:01\r\u001b[K     |████████████████████            | 1.3MB 7.7MB/s eta 0:00:01\r\u001b[K     |████████████████████▏           | 1.3MB 7.7MB/s eta 0:00:01\r\u001b[K     |████████████████████▎           | 1.3MB 7.7MB/s eta 0:00:01\r\u001b[K     |████████████████████▍           | 1.3MB 7.7MB/s eta 0:00:01\r\u001b[K     |████████████████████▋           | 1.3MB 7.7MB/s eta 0:00:01\r\u001b[K     |████████████████████▊           | 1.3MB 7.7MB/s eta 0:00:01\r\u001b[K     |█████████████████████           | 1.3MB 7.7MB/s eta 0:00:01\r\u001b[K     |█████████████████████           | 1.3MB 7.7MB/s eta 0:00:01\r\u001b[K     |█████████████████████▎          | 1.3MB 7.7MB/s eta 0:00:01\r\u001b[K     |█████████████████████▍          | 1.4MB 7.7MB/s eta 0:00:01\r\u001b[K     |█████████████████████▋          | 1.4MB 7.7MB/s eta 0:00:01\r\u001b[K     |█████████████████████▊          | 1.4MB 7.7MB/s eta 0:00:01\r\u001b[K     |██████████████████████          | 1.4MB 7.7MB/s eta 0:00:01\r\u001b[K     |██████████████████████          | 1.4MB 7.7MB/s eta 0:00:01\r\u001b[K     |██████████████████████▏         | 1.4MB 7.7MB/s eta 0:00:01\r\u001b[K     |██████████████████████▍         | 1.4MB 7.7MB/s eta 0:00:01\r\u001b[K     |██████████████████████▌         | 1.4MB 7.7MB/s eta 0:00:01\r\u001b[K     |██████████████████████▊         | 1.4MB 7.7MB/s eta 0:00:01\r\u001b[K     |██████████████████████▉         | 1.4MB 7.7MB/s eta 0:00:01\r\u001b[K     |███████████████████████         | 1.5MB 7.7MB/s eta 0:00:01\r\u001b[K     |███████████████████████▏        | 1.5MB 7.7MB/s eta 0:00:01\r\u001b[K     |███████████████████████▍        | 1.5MB 7.7MB/s eta 0:00:01\r\u001b[K     |███████████████████████▌        | 1.5MB 7.7MB/s eta 0:00:01\r\u001b[K     |███████████████████████▊        | 1.5MB 7.7MB/s eta 0:00:01\r\u001b[K     |███████████████████████▉        | 1.5MB 7.7MB/s eta 0:00:01\r\u001b[K     |████████████████████████        | 1.5MB 7.7MB/s eta 0:00:01\r\u001b[K     |████████████████████████▏       | 1.5MB 7.7MB/s eta 0:00:01\r\u001b[K     |████████████████████████▎       | 1.5MB 7.7MB/s eta 0:00:01\r\u001b[K     |████████████████████████▌       | 1.5MB 7.7MB/s eta 0:00:01\r\u001b[K     |████████████████████████▋       | 1.6MB 7.7MB/s eta 0:00:01\r\u001b[K     |████████████████████████▉       | 1.6MB 7.7MB/s eta 0:00:01\r\u001b[K     |█████████████████████████       | 1.6MB 7.7MB/s eta 0:00:01\r\u001b[K     |█████████████████████████▏      | 1.6MB 7.7MB/s eta 0:00:01\r\u001b[K     |█████████████████████████▎      | 1.6MB 7.7MB/s eta 0:00:01\r\u001b[K     |█████████████████████████▌      | 1.6MB 7.7MB/s eta 0:00:01\r\u001b[K     |█████████████████████████▋      | 1.6MB 7.7MB/s eta 0:00:01\r\u001b[K     |█████████████████████████▉      | 1.6MB 7.7MB/s eta 0:00:01\r\u001b[K     |██████████████████████████      | 1.6MB 7.7MB/s eta 0:00:01\r\u001b[K     |██████████████████████████▏     | 1.6MB 7.7MB/s eta 0:00:01\r\u001b[K     |██████████████████████████▎     | 1.7MB 7.7MB/s eta 0:00:01\r\u001b[K     |██████████████████████████▍     | 1.7MB 7.7MB/s eta 0:00:01\r\u001b[K     |██████████████████████████▋     | 1.7MB 7.7MB/s eta 0:00:01\r\u001b[K     |██████████████████████████▊     | 1.7MB 7.7MB/s eta 0:00:01\r\u001b[K     |███████████████████████████     | 1.7MB 7.7MB/s eta 0:00:01\r\u001b[K     |███████████████████████████     | 1.7MB 7.7MB/s eta 0:00:01\r\u001b[K     |███████████████████████████▎    | 1.7MB 7.7MB/s eta 0:00:01\r\u001b[K     |███████████████████████████▍    | 1.7MB 7.7MB/s eta 0:00:01\r\u001b[K     |███████████████████████████▋    | 1.7MB 7.7MB/s eta 0:00:01\r\u001b[K     |███████████████████████████▊    | 1.8MB 7.7MB/s eta 0:00:01\r\u001b[K     |████████████████████████████    | 1.8MB 7.7MB/s eta 0:00:01\r\u001b[K     |████████████████████████████    | 1.8MB 7.7MB/s eta 0:00:01\r\u001b[K     |████████████████████████████▎   | 1.8MB 7.7MB/s eta 0:00:01\r\u001b[K     |████████████████████████████▍   | 1.8MB 7.7MB/s eta 0:00:01\r\u001b[K     |████████████████████████████▌   | 1.8MB 7.7MB/s eta 0:00:01\r\u001b[K     |████████████████████████████▊   | 1.8MB 7.7MB/s eta 0:00:01\r\u001b[K     |████████████████████████████▉   | 1.8MB 7.7MB/s eta 0:00:01\r\u001b[K     |█████████████████████████████   | 1.8MB 7.7MB/s eta 0:00:01\r\u001b[K     |█████████████████████████████▏  | 1.8MB 7.7MB/s eta 0:00:01\r\u001b[K     |█████████████████████████████▍  | 1.9MB 7.7MB/s eta 0:00:01\r\u001b[K     |█████████████████████████████▌  | 1.9MB 7.7MB/s eta 0:00:01\r\u001b[K     |█████████████████████████████▊  | 1.9MB 7.7MB/s eta 0:00:01\r\u001b[K     |█████████████████████████████▉  | 1.9MB 7.7MB/s eta 0:00:01\r\u001b[K     |██████████████████████████████  | 1.9MB 7.7MB/s eta 0:00:01\r\u001b[K     |██████████████████████████████▏ | 1.9MB 7.7MB/s eta 0:00:01\r\u001b[K     |██████████████████████████████▎ | 1.9MB 7.7MB/s eta 0:00:01\r\u001b[K     |██████████████████████████████▌ | 1.9MB 7.7MB/s eta 0:00:01\r\u001b[K     |██████████████████████████████▋ | 1.9MB 7.7MB/s eta 0:00:01\r\u001b[K     |██████████████████████████████▉ | 1.9MB 7.7MB/s eta 0:00:01\r\u001b[K     |███████████████████████████████ | 2.0MB 7.7MB/s eta 0:00:01\r\u001b[K     |███████████████████████████████▏| 2.0MB 7.7MB/s eta 0:00:01\r\u001b[K     |███████████████████████████████▎| 2.0MB 7.7MB/s eta 0:00:01\r\u001b[K     |███████████████████████████████▌| 2.0MB 7.7MB/s eta 0:00:01\r\u001b[K     |███████████████████████████████▋| 2.0MB 7.7MB/s eta 0:00:01\r\u001b[K     |███████████████████████████████▉| 2.0MB 7.7MB/s eta 0:00:01\r\u001b[K     |████████████████████████████████| 2.0MB 7.7MB/s eta 0:00:01\r\u001b[K     |████████████████████████████████| 2.0MB 7.7MB/s \n",
            "\u001b[?25hRequirement already satisfied: requests>=2.18.4 in /usr/local/lib/python3.7/dist-packages (from ccxt) (2.23.0)\n",
            "Requirement already satisfied: setuptools>=38.5.1 in /usr/local/lib/python3.7/dist-packages (from ccxt) (57.0.0)\n",
            "Collecting aiohttp<3.8,>=3.7.4; python_version >= \"3.5.2\"\n",
            "\u001b[?25l  Downloading https://files.pythonhosted.org/packages/88/c0/5890b4c8b04a79b7360e8fe4490feb0bb3ab179743f199f0e6220cebd568/aiohttp-3.7.4.post0-cp37-cp37m-manylinux2014_x86_64.whl (1.3MB)\n",
            "\u001b[K     |████████████████████████████████| 1.3MB 33.1MB/s \n",
            "\u001b[?25hCollecting yarl==1.6.3; python_version >= \"3.5.2\"\n",
            "\u001b[?25l  Downloading https://files.pythonhosted.org/packages/f1/62/046834c5fc998c88ab2ef722f5d42122230a632212c8afa76418324f53ff/yarl-1.6.3-cp37-cp37m-manylinux2014_x86_64.whl (294kB)\n",
            "\u001b[K     |████████████████████████████████| 296kB 45.0MB/s \n",
            "\u001b[?25hRequirement already satisfied: certifi>=2018.1.18 in /usr/local/lib/python3.7/dist-packages (from ccxt) (2020.12.5)\n",
            "Collecting aiodns<2.1,>=1.1.1; python_version >= \"3.5.2\"\n",
            "  Downloading https://files.pythonhosted.org/packages/da/01/8f2d49b441573fd2478833bdba91cf0b853b4c750a1fbb9e98de1b94bb22/aiodns-2.0.0-py2.py3-none-any.whl\n",
            "Collecting cryptography>=2.6.1\n",
            "\u001b[?25l  Downloading https://files.pythonhosted.org/packages/b2/26/7af637e6a7e87258b963f1731c5982fb31cd507f0d90d91836e446955d02/cryptography-3.4.7-cp36-abi3-manylinux2014_x86_64.whl (3.2MB)\n",
            "\u001b[K     |████████████████████████████████| 3.2MB 22.7MB/s \n",
            "\u001b[?25hRequirement already satisfied: urllib3!=1.25.0,!=1.25.1,<1.26,>=1.21.1 in /usr/local/lib/python3.7/dist-packages (from requests>=2.18.4->ccxt) (1.24.3)\n",
            "Requirement already satisfied: idna<3,>=2.5 in /usr/local/lib/python3.7/dist-packages (from requests>=2.18.4->ccxt) (2.10)\n",
            "Requirement already satisfied: chardet<4,>=3.0.2 in /usr/local/lib/python3.7/dist-packages (from requests>=2.18.4->ccxt) (3.0.4)\n",
            "Collecting async-timeout<4.0,>=3.0\n",
            "  Downloading https://files.pythonhosted.org/packages/e1/1e/5a4441be21b0726c4464f3f23c8b19628372f606755a9d2e46c187e65ec4/async_timeout-3.0.1-py3-none-any.whl\n",
            "Requirement already satisfied: attrs>=17.3.0 in /usr/local/lib/python3.7/dist-packages (from aiohttp<3.8,>=3.7.4; python_version >= \"3.5.2\"->ccxt) (21.2.0)\n",
            "Collecting multidict<7.0,>=4.5\n",
            "\u001b[?25l  Downloading https://files.pythonhosted.org/packages/7c/a6/4123b8165acbe773d1a8dc8e3f0d1edea16d29f7de018eda769abb56bd30/multidict-5.1.0-cp37-cp37m-manylinux2014_x86_64.whl (142kB)\n",
            "\u001b[K     |████████████████████████████████| 143kB 48.7MB/s \n",
            "\u001b[?25hRequirement already satisfied: typing-extensions>=3.6.5 in /usr/local/lib/python3.7/dist-packages (from aiohttp<3.8,>=3.7.4; python_version >= \"3.5.2\"->ccxt) (3.7.4.3)\n",
            "Collecting pycares>=3.0.0\n",
            "\u001b[?25l  Downloading https://files.pythonhosted.org/packages/aa/36/6328afbcc7591ff51a6d6c8c89fe1d53d3030d48aea74e36bab0ed8e2c3c/pycares-4.0.0-cp37-cp37m-manylinux2010_x86_64.whl (291kB)\n",
            "\u001b[K     |████████████████████████████████| 296kB 35.9MB/s \n",
            "\u001b[?25hRequirement already satisfied: cffi>=1.12 in /usr/local/lib/python3.7/dist-packages (from cryptography>=2.6.1->ccxt) (1.14.5)\n",
            "Requirement already satisfied: pycparser in /usr/local/lib/python3.7/dist-packages (from cffi>=1.12->cryptography>=2.6.1->ccxt) (2.20)\n",
            "Installing collected packages: async-timeout, multidict, yarl, aiohttp, pycares, aiodns, cryptography, ccxt\n",
            "Successfully installed aiodns-2.0.0 aiohttp-3.7.4.post0 async-timeout-3.0.1 ccxt-1.51.40 cryptography-3.4.7 multidict-5.1.0 pycares-4.0.0 yarl-1.6.3\n"
          ],
          "name": "stdout"
        }
      ]
    },
    {
      "cell_type": "code",
      "metadata": {
        "colab": {
          "base_uri": "https://localhost:8080/"
        },
        "id": "nTAB2xh_1Aew",
        "outputId": "243bd8e3-b2d4-444a-c4a1-a08c9151b82e"
      },
      "source": [
        "!pip install baselines"
      ],
      "execution_count": null,
      "outputs": [
        {
          "output_type": "stream",
          "text": [
            "Collecting baselines\n",
            "\u001b[?25l  Downloading https://files.pythonhosted.org/packages/f1/bd/d7695f0e5649658b43eabf10d1efa11c70a30ce532faef994c8b7172a744/baselines-0.1.5.tar.gz (123kB)\n",
            "\r\u001b[K     |██▋                             | 10kB 16.3MB/s eta 0:00:01\r\u001b[K     |█████▎                          | 20kB 22.2MB/s eta 0:00:01\r\u001b[K     |████████                        | 30kB 18.7MB/s eta 0:00:01\r\u001b[K     |██████████▋                     | 40kB 17.4MB/s eta 0:00:01\r\u001b[K     |█████████████▎                  | 51kB 8.2MB/s eta 0:00:01\r\u001b[K     |████████████████                | 61kB 9.5MB/s eta 0:00:01\r\u001b[K     |██████████████████▋             | 71kB 8.8MB/s eta 0:00:01\r\u001b[K     |█████████████████████▎          | 81kB 9.6MB/s eta 0:00:01\r\u001b[K     |████████████████████████        | 92kB 10.5MB/s eta 0:00:01\r\u001b[K     |██████████████████████████▋     | 102kB 8.7MB/s eta 0:00:01\r\u001b[K     |█████████████████████████████▎  | 112kB 8.7MB/s eta 0:00:01\r\u001b[K     |████████████████████████████████| 122kB 8.7MB/s eta 0:00:01\r\u001b[K     |████████████████████████████████| 133kB 8.7MB/s \n",
            "\u001b[?25hRequirement already satisfied: gym[atari,classic_control,mujoco,robotics] in /usr/local/lib/python3.7/dist-packages (from baselines) (0.17.3)\n",
            "Requirement already satisfied: scipy in /usr/local/lib/python3.7/dist-packages (from baselines) (1.4.1)\n",
            "Requirement already satisfied: tqdm in /usr/local/lib/python3.7/dist-packages (from baselines) (4.41.1)\n",
            "Requirement already satisfied: joblib in /usr/local/lib/python3.7/dist-packages (from baselines) (1.0.1)\n",
            "Collecting zmq\n",
            "  Downloading https://files.pythonhosted.org/packages/6e/78/833b2808793c1619835edb1a4e17a023d5d625f4f97ff25ffff986d1f472/zmq-0.0.0.tar.gz\n",
            "Requirement already satisfied: dill in /usr/local/lib/python3.7/dist-packages (from baselines) (0.3.3)\n",
            "Requirement already satisfied: progressbar2 in /usr/local/lib/python3.7/dist-packages (from baselines) (3.38.0)\n",
            "Collecting mpi4py\n",
            "\u001b[?25l  Downloading https://files.pythonhosted.org/packages/ec/8f/bbd8de5ba566dd77e408d8136e2bab7fdf2b97ce06cab830ba8b50a2f588/mpi4py-3.0.3.tar.gz (1.4MB)\n",
            "\u001b[K     |████████████████████████████████| 1.4MB 15.3MB/s \n",
            "\u001b[?25hRequirement already satisfied: cloudpickle in /usr/local/lib/python3.7/dist-packages (from baselines) (1.3.0)\n",
            "Requirement already satisfied: tensorflow>=1.4.0 in /usr/local/lib/python3.7/dist-packages (from baselines) (2.5.0)\n",
            "Requirement already satisfied: click in /usr/local/lib/python3.7/dist-packages (from baselines) (7.1.2)\n",
            "Requirement already satisfied: numpy>=1.10.4 in /usr/local/lib/python3.7/dist-packages (from gym[atari,classic_control,mujoco,robotics]->baselines) (1.19.5)\n",
            "Requirement already satisfied: pyglet<=1.5.0,>=1.4.0 in /usr/local/lib/python3.7/dist-packages (from gym[atari,classic_control,mujoco,robotics]->baselines) (1.5.0)\n",
            "Requirement already satisfied: opencv-python; extra == \"atari\" in /usr/local/lib/python3.7/dist-packages (from gym[atari,classic_control,mujoco,robotics]->baselines) (4.1.2.30)\n",
            "Requirement already satisfied: Pillow; extra == \"atari\" in /usr/local/lib/python3.7/dist-packages (from gym[atari,classic_control,mujoco,robotics]->baselines) (7.1.2)\n",
            "Requirement already satisfied: atari-py~=0.2.0; extra == \"atari\" in /usr/local/lib/python3.7/dist-packages (from gym[atari,classic_control,mujoco,robotics]->baselines) (0.2.9)\n",
            "Requirement already satisfied: imageio; extra == \"mujoco\" in /usr/local/lib/python3.7/dist-packages (from gym[atari,classic_control,mujoco,robotics]->baselines) (2.4.1)\n",
            "Collecting mujoco-py<2.0,>=1.50; extra == \"mujoco\"\n",
            "\u001b[?25l  Downloading https://files.pythonhosted.org/packages/cf/8c/64e0630b3d450244feef0688d90eab2448631e40ba6bdbd90a70b84898e7/mujoco-py-1.50.1.68.tar.gz (120kB)\n",
            "\u001b[K     |████████████████████████████████| 122kB 35.1MB/s \n",
            "\u001b[?25hRequirement already satisfied: pyzmq in /usr/local/lib/python3.7/dist-packages (from zmq->baselines) (22.0.3)\n",
            "Requirement already satisfied: six in /usr/local/lib/python3.7/dist-packages (from progressbar2->baselines) (1.15.0)\n",
            "Requirement already satisfied: python-utils>=2.3.0 in /usr/local/lib/python3.7/dist-packages (from progressbar2->baselines) (2.5.6)\n",
            "Requirement already satisfied: wrapt~=1.12.1 in /usr/local/lib/python3.7/dist-packages (from tensorflow>=1.4.0->baselines) (1.12.1)\n",
            "Requirement already satisfied: grpcio~=1.34.0 in /usr/local/lib/python3.7/dist-packages (from tensorflow>=1.4.0->baselines) (1.34.1)\n",
            "Requirement already satisfied: h5py~=3.1.0 in /usr/local/lib/python3.7/dist-packages (from tensorflow>=1.4.0->baselines) (3.1.0)\n",
            "Requirement already satisfied: keras-preprocessing~=1.1.2 in /usr/local/lib/python3.7/dist-packages (from tensorflow>=1.4.0->baselines) (1.1.2)\n",
            "Requirement already satisfied: absl-py~=0.10 in /usr/local/lib/python3.7/dist-packages (from tensorflow>=1.4.0->baselines) (0.12.0)\n",
            "Requirement already satisfied: wheel~=0.35 in /usr/local/lib/python3.7/dist-packages (from tensorflow>=1.4.0->baselines) (0.36.2)\n",
            "Requirement already satisfied: protobuf>=3.9.2 in /usr/local/lib/python3.7/dist-packages (from tensorflow>=1.4.0->baselines) (3.12.4)\n",
            "Requirement already satisfied: tensorboard~=2.5 in /usr/local/lib/python3.7/dist-packages (from tensorflow>=1.4.0->baselines) (2.5.0)\n",
            "Requirement already satisfied: typing-extensions~=3.7.4 in /usr/local/lib/python3.7/dist-packages (from tensorflow>=1.4.0->baselines) (3.7.4.3)\n",
            "Requirement already satisfied: astunparse~=1.6.3 in /usr/local/lib/python3.7/dist-packages (from tensorflow>=1.4.0->baselines) (1.6.3)\n",
            "Requirement already satisfied: opt-einsum~=3.3.0 in /usr/local/lib/python3.7/dist-packages (from tensorflow>=1.4.0->baselines) (3.3.0)\n",
            "Requirement already satisfied: tensorflow-estimator<2.6.0,>=2.5.0rc0 in /usr/local/lib/python3.7/dist-packages (from tensorflow>=1.4.0->baselines) (2.5.0)\n",
            "Requirement already satisfied: keras-nightly~=2.5.0.dev in /usr/local/lib/python3.7/dist-packages (from tensorflow>=1.4.0->baselines) (2.5.0.dev2021032900)\n",
            "Requirement already satisfied: flatbuffers~=1.12.0 in /usr/local/lib/python3.7/dist-packages (from tensorflow>=1.4.0->baselines) (1.12)\n",
            "Requirement already satisfied: gast==0.4.0 in /usr/local/lib/python3.7/dist-packages (from tensorflow>=1.4.0->baselines) (0.4.0)\n",
            "Requirement already satisfied: google-pasta~=0.2 in /usr/local/lib/python3.7/dist-packages (from tensorflow>=1.4.0->baselines) (0.2.0)\n",
            "Requirement already satisfied: termcolor~=1.1.0 in /usr/local/lib/python3.7/dist-packages (from tensorflow>=1.4.0->baselines) (1.1.0)\n",
            "Requirement already satisfied: future in /usr/local/lib/python3.7/dist-packages (from pyglet<=1.5.0,>=1.4.0->gym[atari,classic_control,mujoco,robotics]->baselines) (0.16.0)\n",
            "Collecting glfw>=1.4.0\n",
            "\u001b[?25l  Downloading https://files.pythonhosted.org/packages/13/d7/79c091c877493de7f8286ed62c77bf0f2c51105656073846b2326021b524/glfw-2.1.0-py2.py27.py3.py30.py31.py32.py33.py34.py35.py36.py37.py38-none-manylinux2014_x86_64.whl (205kB)\n",
            "\u001b[K     |████████████████████████████████| 215kB 40.4MB/s \n",
            "\u001b[?25hRequirement already satisfied: Cython>=0.27.2 in /usr/local/lib/python3.7/dist-packages (from mujoco-py<2.0,>=1.50; extra == \"mujoco\"->gym[atari,classic_control,mujoco,robotics]->baselines) (0.29.23)\n",
            "Requirement already satisfied: cffi>=1.10 in /usr/local/lib/python3.7/dist-packages (from mujoco-py<2.0,>=1.50; extra == \"mujoco\"->gym[atari,classic_control,mujoco,robotics]->baselines) (1.14.5)\n",
            "Collecting lockfile>=0.12.2\n",
            "  Downloading https://files.pythonhosted.org/packages/c8/22/9460e311f340cb62d26a38c419b1381b8593b0bb6b5d1f056938b086d362/lockfile-0.12.2-py2.py3-none-any.whl\n",
            "Requirement already satisfied: cached-property; python_version < \"3.8\" in /usr/local/lib/python3.7/dist-packages (from h5py~=3.1.0->tensorflow>=1.4.0->baselines) (1.5.2)\n",
            "Requirement already satisfied: setuptools in /usr/local/lib/python3.7/dist-packages (from protobuf>=3.9.2->tensorflow>=1.4.0->baselines) (57.0.0)\n",
            "Requirement already satisfied: werkzeug>=0.11.15 in /usr/local/lib/python3.7/dist-packages (from tensorboard~=2.5->tensorflow>=1.4.0->baselines) (1.0.1)\n",
            "Requirement already satisfied: tensorboard-data-server<0.7.0,>=0.6.0 in /usr/local/lib/python3.7/dist-packages (from tensorboard~=2.5->tensorflow>=1.4.0->baselines) (0.6.1)\n",
            "Requirement already satisfied: google-auth<2,>=1.6.3 in /usr/local/lib/python3.7/dist-packages (from tensorboard~=2.5->tensorflow>=1.4.0->baselines) (1.30.0)\n",
            "Requirement already satisfied: google-auth-oauthlib<0.5,>=0.4.1 in /usr/local/lib/python3.7/dist-packages (from tensorboard~=2.5->tensorflow>=1.4.0->baselines) (0.4.4)\n",
            "Requirement already satisfied: markdown>=2.6.8 in /usr/local/lib/python3.7/dist-packages (from tensorboard~=2.5->tensorflow>=1.4.0->baselines) (3.3.4)\n",
            "Requirement already satisfied: requests<3,>=2.21.0 in /usr/local/lib/python3.7/dist-packages (from tensorboard~=2.5->tensorflow>=1.4.0->baselines) (2.23.0)\n",
            "Requirement already satisfied: tensorboard-plugin-wit>=1.6.0 in /usr/local/lib/python3.7/dist-packages (from tensorboard~=2.5->tensorflow>=1.4.0->baselines) (1.8.0)\n",
            "Requirement already satisfied: pycparser in /usr/local/lib/python3.7/dist-packages (from cffi>=1.10->mujoco-py<2.0,>=1.50; extra == \"mujoco\"->gym[atari,classic_control,mujoco,robotics]->baselines) (2.20)\n",
            "Requirement already satisfied: rsa<5,>=3.1.4; python_version >= \"3.6\" in /usr/local/lib/python3.7/dist-packages (from google-auth<2,>=1.6.3->tensorboard~=2.5->tensorflow>=1.4.0->baselines) (4.7.2)\n",
            "Requirement already satisfied: pyasn1-modules>=0.2.1 in /usr/local/lib/python3.7/dist-packages (from google-auth<2,>=1.6.3->tensorboard~=2.5->tensorflow>=1.4.0->baselines) (0.2.8)\n",
            "Requirement already satisfied: cachetools<5.0,>=2.0.0 in /usr/local/lib/python3.7/dist-packages (from google-auth<2,>=1.6.3->tensorboard~=2.5->tensorflow>=1.4.0->baselines) (4.2.2)\n",
            "Requirement already satisfied: requests-oauthlib>=0.7.0 in /usr/local/lib/python3.7/dist-packages (from google-auth-oauthlib<0.5,>=0.4.1->tensorboard~=2.5->tensorflow>=1.4.0->baselines) (1.3.0)\n",
            "Requirement already satisfied: importlib-metadata; python_version < \"3.8\" in /usr/local/lib/python3.7/dist-packages (from markdown>=2.6.8->tensorboard~=2.5->tensorflow>=1.4.0->baselines) (4.0.1)\n",
            "Requirement already satisfied: idna<3,>=2.5 in /usr/local/lib/python3.7/dist-packages (from requests<3,>=2.21.0->tensorboard~=2.5->tensorflow>=1.4.0->baselines) (2.10)\n",
            "Requirement already satisfied: chardet<4,>=3.0.2 in /usr/local/lib/python3.7/dist-packages (from requests<3,>=2.21.0->tensorboard~=2.5->tensorflow>=1.4.0->baselines) (3.0.4)\n",
            "Requirement already satisfied: urllib3!=1.25.0,!=1.25.1,<1.26,>=1.21.1 in /usr/local/lib/python3.7/dist-packages (from requests<3,>=2.21.0->tensorboard~=2.5->tensorflow>=1.4.0->baselines) (1.24.3)\n",
            "Requirement already satisfied: certifi>=2017.4.17 in /usr/local/lib/python3.7/dist-packages (from requests<3,>=2.21.0->tensorboard~=2.5->tensorflow>=1.4.0->baselines) (2020.12.5)\n",
            "Requirement already satisfied: pyasn1>=0.1.3 in /usr/local/lib/python3.7/dist-packages (from rsa<5,>=3.1.4; python_version >= \"3.6\"->google-auth<2,>=1.6.3->tensorboard~=2.5->tensorflow>=1.4.0->baselines) (0.4.8)\n",
            "Requirement already satisfied: oauthlib>=3.0.0 in /usr/local/lib/python3.7/dist-packages (from requests-oauthlib>=0.7.0->google-auth-oauthlib<0.5,>=0.4.1->tensorboard~=2.5->tensorflow>=1.4.0->baselines) (3.1.0)\n",
            "Requirement already satisfied: zipp>=0.5 in /usr/local/lib/python3.7/dist-packages (from importlib-metadata; python_version < \"3.8\"->markdown>=2.6.8->tensorboard~=2.5->tensorflow>=1.4.0->baselines) (3.4.1)\n",
            "Building wheels for collected packages: baselines, zmq, mpi4py, mujoco-py\n",
            "  Building wheel for baselines (setup.py) ... \u001b[?25l\u001b[?25hdone\n",
            "  Created wheel for baselines: filename=baselines-0.1.5-cp37-none-any.whl size=163903 sha256=a768fb266b698d6e1221d9e6c463ef4522f93ce24f22447f0d82107204665370\n",
            "  Stored in directory: /root/.cache/pip/wheels/c3/95/d4/dc08613e714458fb368c44948025dade91a37db5932faa058f\n",
            "  Building wheel for zmq (setup.py) ... \u001b[?25l\u001b[?25hdone\n",
            "  Created wheel for zmq: filename=zmq-0.0.0-cp37-none-any.whl size=1277 sha256=7fbb25214b7987cd61fce18e1b1c128570e6a6bc6f4f21f8343c59855af5cd2f\n",
            "  Stored in directory: /root/.cache/pip/wheels/44/7a/7d/ac1d865766b06f9769ac1154bf31dbb5abb3b52ecfe278247a\n",
            "  Building wheel for mpi4py (setup.py) ... \u001b[?25l\u001b[?25hdone\n",
            "  Created wheel for mpi4py: filename=mpi4py-3.0.3-cp37-cp37m-linux_x86_64.whl size=2065206 sha256=e7fc1875b622e3289cd5641354aa6b087aedfe6eb11c8326e89c84575296f8f5\n",
            "  Stored in directory: /root/.cache/pip/wheels/18/e0/86/2b713dd512199096012ceca61429e12b960888de59818871d6\n",
            "  Building wheel for mujoco-py (setup.py) ... \u001b[?25lerror\n",
            "\u001b[31m  ERROR: Failed building wheel for mujoco-py\u001b[0m\n",
            "\u001b[?25h  Running setup.py clean for mujoco-py\n",
            "Successfully built baselines zmq mpi4py\n",
            "Failed to build mujoco-py\n",
            "Installing collected packages: zmq, mpi4py, baselines, glfw, lockfile, mujoco-py\n",
            "    Running setup.py install for mujoco-py ... \u001b[?25l\u001b[?25herror\n",
            "\u001b[31mERROR: Command errored out with exit status 1: /usr/bin/python3 -u -c 'import sys, setuptools, tokenize; sys.argv[0] = '\"'\"'/tmp/pip-install-gv4rawu5/mujoco-py/setup.py'\"'\"'; __file__='\"'\"'/tmp/pip-install-gv4rawu5/mujoco-py/setup.py'\"'\"';f=getattr(tokenize, '\"'\"'open'\"'\"', open)(__file__);code=f.read().replace('\"'\"'\\r\\n'\"'\"', '\"'\"'\\n'\"'\"');f.close();exec(compile(code, __file__, '\"'\"'exec'\"'\"'))' install --record /tmp/pip-record-pq7wzry7/install-record.txt --single-version-externally-managed --compile Check the logs for full command output.\u001b[0m\n"
          ],
          "name": "stdout"
        }
      ]
    },
    {
      "cell_type": "code",
      "metadata": {
        "colab": {
          "base_uri": "https://localhost:8080/"
        },
        "id": "EO54bKGb1FxE",
        "outputId": "c290b332-c0c5-49d0-fb22-ed89c61740f7"
      },
      "source": [
        "!pip install fbm"
      ],
      "execution_count": null,
      "outputs": [
        {
          "output_type": "stream",
          "text": [
            "Collecting fbm\n",
            "  Downloading https://files.pythonhosted.org/packages/16/f8/f103aa4947ae83ce8e91c448c284ac71b88e449e5418c7baff69c7c51624/fbm-0.3.0-py2.py3-none-any.whl\n",
            "Requirement already satisfied: numpy in /usr/local/lib/python3.7/dist-packages (from fbm) (1.19.5)\n",
            "Installing collected packages: fbm\n",
            "Successfully installed fbm-0.3.0\n"
          ],
          "name": "stdout"
        }
      ]
    },
    {
      "cell_type": "code",
      "metadata": {
        "colab": {
          "base_uri": "https://localhost:8080/",
          "height": 1000
        },
        "id": "e7qpnhHa1j4y",
        "outputId": "0ed45432-9dd9-466c-b03b-059ec8c56d9e"
      },
      "source": [
        "!pip install tensorforce"
      ],
      "execution_count": null,
      "outputs": [
        {
          "output_type": "stream",
          "text": [
            "Collecting tensorforce\n",
            "\u001b[?25l  Downloading https://files.pythonhosted.org/packages/3b/f5/58b2a0869bb723a2c99f7266b18dcced4ae836391c197a2c12f7831ca116/Tensorforce-0.6.4-py3-none-any.whl (308kB)\n",
            "\u001b[K     |████████████████████████████████| 317kB 7.6MB/s \n",
            "\u001b[?25hCollecting gym>=0.18.3\n",
            "\u001b[?25l  Downloading https://files.pythonhosted.org/packages/1a/db/816fd52c0c196b6799e89d1f65b6c74fead2707cf7d447f3f354edfa7a44/gym-0.18.3.tar.gz (1.6MB)\n",
            "\u001b[K     |████████████████████████████████| 1.6MB 13.3MB/s \n",
            "\u001b[?25hCollecting matplotlib>=3.4.2\n",
            "\u001b[?25l  Downloading https://files.pythonhosted.org/packages/24/33/5568d443ba438d95d4db635dd69958056f087e57e1026bee56f959d53f9d/matplotlib-3.4.2-cp37-cp37m-manylinux1_x86_64.whl (10.3MB)\n",
            "\u001b[K     |████████████████████████████████| 10.3MB 32.3MB/s \n",
            "\u001b[?25hCollecting msgpack-numpy>=0.4.7.1\n",
            "  Downloading https://files.pythonhosted.org/packages/19/05/05b8d7c69c6abb36a34325cc3150089bdafc359f0a81fb998d93c5d5c737/msgpack_numpy-0.4.7.1-py2.py3-none-any.whl\n",
            "Requirement already satisfied: msgpack>=1.0.2 in /usr/local/lib/python3.7/dist-packages (from tensorforce) (1.0.2)\n",
            "Collecting tqdm>=4.61.0\n",
            "\u001b[?25l  Downloading https://files.pythonhosted.org/packages/b4/20/9f1e974bb4761128fc0d0a32813eaa92827309b1756c4b892d28adfb4415/tqdm-4.61.1-py2.py3-none-any.whl (75kB)\n",
            "\u001b[K     |████████████████████████████████| 81kB 8.1MB/s \n",
            "\u001b[?25hRequirement already satisfied: numpy==1.19.5 in /usr/local/lib/python3.7/dist-packages (from tensorforce) (1.19.5)\n",
            "Requirement already satisfied: h5py~=3.1.0 in /usr/local/lib/python3.7/dist-packages (from tensorforce) (3.1.0)\n",
            "Collecting Pillow>=8.2.0\n",
            "\u001b[?25l  Downloading https://files.pythonhosted.org/packages/33/34/542152297dcc6c47a9dcb0685eac6d652d878ed3cea83bf2b23cb988e857/Pillow-8.2.0-cp37-cp37m-manylinux1_x86_64.whl (3.0MB)\n",
            "\u001b[K     |████████████████████████████████| 3.0MB 33.0MB/s \n",
            "\u001b[?25hRequirement already satisfied: tensorflow==2.5.0 in /usr/local/lib/python3.7/dist-packages (from tensorforce) (2.5.0)\n",
            "Requirement already satisfied: scipy in /usr/local/lib/python3.7/dist-packages (from gym>=0.18.3->tensorforce) (1.4.1)\n",
            "Requirement already satisfied: pyglet<=1.5.15,>=1.4.0 in /usr/local/lib/python3.7/dist-packages (from gym>=0.18.3->tensorforce) (1.5.0)\n",
            "Requirement already satisfied: cloudpickle<1.7.0,>=1.2.0 in /usr/local/lib/python3.7/dist-packages (from gym>=0.18.3->tensorforce) (1.3.0)\n",
            "Requirement already satisfied: python-dateutil>=2.7 in /usr/local/lib/python3.7/dist-packages (from matplotlib>=3.4.2->tensorforce) (2.8.1)\n",
            "Requirement already satisfied: cycler>=0.10 in /usr/local/lib/python3.7/dist-packages (from matplotlib>=3.4.2->tensorforce) (0.10.0)\n",
            "Requirement already satisfied: kiwisolver>=1.0.1 in /usr/local/lib/python3.7/dist-packages (from matplotlib>=3.4.2->tensorforce) (1.3.1)\n",
            "Requirement already satisfied: pyparsing>=2.2.1 in /usr/local/lib/python3.7/dist-packages (from matplotlib>=3.4.2->tensorforce) (2.4.7)\n",
            "Requirement already satisfied: cached-property; python_version < \"3.8\" in /usr/local/lib/python3.7/dist-packages (from h5py~=3.1.0->tensorforce) (1.5.2)\n",
            "Requirement already satisfied: gast==0.4.0 in /usr/local/lib/python3.7/dist-packages (from tensorflow==2.5.0->tensorforce) (0.4.0)\n",
            "Requirement already satisfied: six~=1.15.0 in /usr/local/lib/python3.7/dist-packages (from tensorflow==2.5.0->tensorforce) (1.15.0)\n",
            "Requirement already satisfied: tensorflow-estimator<2.6.0,>=2.5.0rc0 in /usr/local/lib/python3.7/dist-packages (from tensorflow==2.5.0->tensorforce) (2.5.0)\n",
            "Requirement already satisfied: absl-py~=0.10 in /usr/local/lib/python3.7/dist-packages (from tensorflow==2.5.0->tensorforce) (0.12.0)\n",
            "Requirement already satisfied: keras-nightly~=2.5.0.dev in /usr/local/lib/python3.7/dist-packages (from tensorflow==2.5.0->tensorforce) (2.5.0.dev2021032900)\n",
            "Requirement already satisfied: astunparse~=1.6.3 in /usr/local/lib/python3.7/dist-packages (from tensorflow==2.5.0->tensorforce) (1.6.3)\n",
            "Requirement already satisfied: tensorboard~=2.5 in /usr/local/lib/python3.7/dist-packages (from tensorflow==2.5.0->tensorforce) (2.5.0)\n",
            "Requirement already satisfied: keras-preprocessing~=1.1.2 in /usr/local/lib/python3.7/dist-packages (from tensorflow==2.5.0->tensorforce) (1.1.2)\n",
            "Requirement already satisfied: opt-einsum~=3.3.0 in /usr/local/lib/python3.7/dist-packages (from tensorflow==2.5.0->tensorforce) (3.3.0)\n",
            "Requirement already satisfied: wheel~=0.35 in /usr/local/lib/python3.7/dist-packages (from tensorflow==2.5.0->tensorforce) (0.36.2)\n",
            "Requirement already satisfied: flatbuffers~=1.12.0 in /usr/local/lib/python3.7/dist-packages (from tensorflow==2.5.0->tensorforce) (1.12)\n",
            "Requirement already satisfied: protobuf>=3.9.2 in /usr/local/lib/python3.7/dist-packages (from tensorflow==2.5.0->tensorforce) (3.12.4)\n",
            "Requirement already satisfied: grpcio~=1.34.0 in /usr/local/lib/python3.7/dist-packages (from tensorflow==2.5.0->tensorforce) (1.34.1)\n",
            "Requirement already satisfied: google-pasta~=0.2 in /usr/local/lib/python3.7/dist-packages (from tensorflow==2.5.0->tensorforce) (0.2.0)\n",
            "Requirement already satisfied: wrapt~=1.12.1 in /usr/local/lib/python3.7/dist-packages (from tensorflow==2.5.0->tensorforce) (1.12.1)\n",
            "Requirement already satisfied: termcolor~=1.1.0 in /usr/local/lib/python3.7/dist-packages (from tensorflow==2.5.0->tensorforce) (1.1.0)\n",
            "Requirement already satisfied: typing-extensions~=3.7.4 in /usr/local/lib/python3.7/dist-packages (from tensorflow==2.5.0->tensorforce) (3.7.4.3)\n",
            "Requirement already satisfied: future in /usr/local/lib/python3.7/dist-packages (from pyglet<=1.5.15,>=1.4.0->gym>=0.18.3->tensorforce) (0.16.0)\n",
            "Requirement already satisfied: werkzeug>=0.11.15 in /usr/local/lib/python3.7/dist-packages (from tensorboard~=2.5->tensorflow==2.5.0->tensorforce) (1.0.1)\n",
            "Requirement already satisfied: google-auth-oauthlib<0.5,>=0.4.1 in /usr/local/lib/python3.7/dist-packages (from tensorboard~=2.5->tensorflow==2.5.0->tensorforce) (0.4.4)\n",
            "Requirement already satisfied: requests<3,>=2.21.0 in /usr/local/lib/python3.7/dist-packages (from tensorboard~=2.5->tensorflow==2.5.0->tensorforce) (2.23.0)\n",
            "Requirement already satisfied: markdown>=2.6.8 in /usr/local/lib/python3.7/dist-packages (from tensorboard~=2.5->tensorflow==2.5.0->tensorforce) (3.3.4)\n",
            "Requirement already satisfied: setuptools>=41.0.0 in /usr/local/lib/python3.7/dist-packages (from tensorboard~=2.5->tensorflow==2.5.0->tensorforce) (57.0.0)\n",
            "Requirement already satisfied: google-auth<2,>=1.6.3 in /usr/local/lib/python3.7/dist-packages (from tensorboard~=2.5->tensorflow==2.5.0->tensorforce) (1.30.0)\n",
            "Requirement already satisfied: tensorboard-plugin-wit>=1.6.0 in /usr/local/lib/python3.7/dist-packages (from tensorboard~=2.5->tensorflow==2.5.0->tensorforce) (1.8.0)\n",
            "Requirement already satisfied: tensorboard-data-server<0.7.0,>=0.6.0 in /usr/local/lib/python3.7/dist-packages (from tensorboard~=2.5->tensorflow==2.5.0->tensorforce) (0.6.1)\n",
            "Requirement already satisfied: requests-oauthlib>=0.7.0 in /usr/local/lib/python3.7/dist-packages (from google-auth-oauthlib<0.5,>=0.4.1->tensorboard~=2.5->tensorflow==2.5.0->tensorforce) (1.3.0)\n",
            "Requirement already satisfied: certifi>=2017.4.17 in /usr/local/lib/python3.7/dist-packages (from requests<3,>=2.21.0->tensorboard~=2.5->tensorflow==2.5.0->tensorforce) (2020.12.5)\n",
            "Requirement already satisfied: urllib3!=1.25.0,!=1.25.1,<1.26,>=1.21.1 in /usr/local/lib/python3.7/dist-packages (from requests<3,>=2.21.0->tensorboard~=2.5->tensorflow==2.5.0->tensorforce) (1.24.3)\n",
            "Requirement already satisfied: idna<3,>=2.5 in /usr/local/lib/python3.7/dist-packages (from requests<3,>=2.21.0->tensorboard~=2.5->tensorflow==2.5.0->tensorforce) (2.10)\n",
            "Requirement already satisfied: chardet<4,>=3.0.2 in /usr/local/lib/python3.7/dist-packages (from requests<3,>=2.21.0->tensorboard~=2.5->tensorflow==2.5.0->tensorforce) (3.0.4)\n",
            "Requirement already satisfied: importlib-metadata; python_version < \"3.8\" in /usr/local/lib/python3.7/dist-packages (from markdown>=2.6.8->tensorboard~=2.5->tensorflow==2.5.0->tensorforce) (4.0.1)\n",
            "Requirement already satisfied: pyasn1-modules>=0.2.1 in /usr/local/lib/python3.7/dist-packages (from google-auth<2,>=1.6.3->tensorboard~=2.5->tensorflow==2.5.0->tensorforce) (0.2.8)\n",
            "Requirement already satisfied: rsa<5,>=3.1.4; python_version >= \"3.6\" in /usr/local/lib/python3.7/dist-packages (from google-auth<2,>=1.6.3->tensorboard~=2.5->tensorflow==2.5.0->tensorforce) (4.7.2)\n",
            "Requirement already satisfied: cachetools<5.0,>=2.0.0 in /usr/local/lib/python3.7/dist-packages (from google-auth<2,>=1.6.3->tensorboard~=2.5->tensorflow==2.5.0->tensorforce) (4.2.2)\n",
            "Requirement already satisfied: oauthlib>=3.0.0 in /usr/local/lib/python3.7/dist-packages (from requests-oauthlib>=0.7.0->google-auth-oauthlib<0.5,>=0.4.1->tensorboard~=2.5->tensorflow==2.5.0->tensorforce) (3.1.0)\n",
            "Requirement already satisfied: zipp>=0.5 in /usr/local/lib/python3.7/dist-packages (from importlib-metadata; python_version < \"3.8\"->markdown>=2.6.8->tensorboard~=2.5->tensorflow==2.5.0->tensorforce) (3.4.1)\n",
            "Requirement already satisfied: pyasn1<0.5.0,>=0.4.6 in /usr/local/lib/python3.7/dist-packages (from pyasn1-modules>=0.2.1->google-auth<2,>=1.6.3->tensorboard~=2.5->tensorflow==2.5.0->tensorforce) (0.4.8)\n",
            "Building wheels for collected packages: gym\n",
            "  Building wheel for gym (setup.py) ... \u001b[?25l\u001b[?25hdone\n",
            "  Created wheel for gym: filename=gym-0.18.3-cp37-none-any.whl size=1657526 sha256=51859718a38e5368b609da48ac13e981bce54efdda2bcaab325fe23aaac6bbe8\n",
            "  Stored in directory: /root/.cache/pip/wheels/93/c2/4c/2b4c9b85119994837c08315c9415d71008325b7004d385b418\n",
            "Successfully built gym\n",
            "\u001b[31mERROR: albumentations 0.1.12 has requirement imgaug<0.2.7,>=0.2.5, but you'll have imgaug 0.2.9 which is incompatible.\u001b[0m\n",
            "Installing collected packages: Pillow, gym, matplotlib, msgpack-numpy, tqdm, tensorforce\n",
            "  Found existing installation: Pillow 7.1.2\n",
            "    Uninstalling Pillow-7.1.2:\n",
            "      Successfully uninstalled Pillow-7.1.2\n",
            "  Found existing installation: gym 0.17.3\n",
            "    Uninstalling gym-0.17.3:\n",
            "      Successfully uninstalled gym-0.17.3\n",
            "  Found existing installation: matplotlib 3.2.2\n",
            "    Uninstalling matplotlib-3.2.2:\n",
            "      Successfully uninstalled matplotlib-3.2.2\n",
            "  Found existing installation: tqdm 4.41.1\n",
            "    Uninstalling tqdm-4.41.1:\n",
            "      Successfully uninstalled tqdm-4.41.1\n",
            "Successfully installed Pillow-8.2.0 gym-0.18.3 matplotlib-3.4.2 msgpack-numpy-0.4.7.1 tensorforce-0.6.4 tqdm-4.61.1\n"
          ],
          "name": "stdout"
        },
        {
          "output_type": "display_data",
          "data": {
            "application/vnd.colab-display-data+json": {
              "pip_warning": {
                "packages": [
                  "PIL",
                  "gym",
                  "matplotlib",
                  "mpl_toolkits",
                  "tqdm"
                ]
              }
            }
          },
          "metadata": {
            "tags": []
          }
        }
      ]
    },
    {
      "cell_type": "code",
      "metadata": {
        "colab": {
          "base_uri": "https://localhost:8080/",
          "height": 374
        },
        "id": "lIlttiufzHEn",
        "outputId": "de26d6a4-c8eb-484e-b58a-392fdcfca6d2"
      },
      "source": [
        "import ccxt\n",
        "from tensortrade.exchanges.live import CCXTExchange\n",
        "\n",
        "coinbase = ccxt.coinbasepro()\n",
        "exchange = CCXTExchange(exchange=coinbase, base_instrument='USD')"
      ],
      "execution_count": null,
      "outputs": [
        {
          "output_type": "error",
          "ename": "ModuleNotFoundError",
          "evalue": "ignored",
          "traceback": [
            "\u001b[0;31m---------------------------------------------------------------------------\u001b[0m",
            "\u001b[0;31mModuleNotFoundError\u001b[0m                       Traceback (most recent call last)",
            "\u001b[0;32m<ipython-input-5-512829a0fddd>\u001b[0m in \u001b[0;36m<module>\u001b[0;34m\u001b[0m\n\u001b[1;32m      1\u001b[0m \u001b[0;32mimport\u001b[0m \u001b[0mccxt\u001b[0m\u001b[0;34m\u001b[0m\u001b[0;34m\u001b[0m\u001b[0m\n\u001b[0;32m----> 2\u001b[0;31m \u001b[0;32mfrom\u001b[0m \u001b[0mtensortrade\u001b[0m\u001b[0;34m.\u001b[0m\u001b[0mexchanges\u001b[0m\u001b[0;34m.\u001b[0m\u001b[0mlive\u001b[0m \u001b[0;32mimport\u001b[0m \u001b[0mCCXTExchange\u001b[0m\u001b[0;34m\u001b[0m\u001b[0;34m\u001b[0m\u001b[0m\n\u001b[0m\u001b[1;32m      3\u001b[0m \u001b[0;34m\u001b[0m\u001b[0m\n\u001b[1;32m      4\u001b[0m \u001b[0mcoinbase\u001b[0m \u001b[0;34m=\u001b[0m \u001b[0mccxt\u001b[0m\u001b[0;34m.\u001b[0m\u001b[0mcoinbasepro\u001b[0m\u001b[0;34m(\u001b[0m\u001b[0;34m)\u001b[0m\u001b[0;34m\u001b[0m\u001b[0;34m\u001b[0m\u001b[0m\n\u001b[1;32m      5\u001b[0m \u001b[0mexchange\u001b[0m \u001b[0;34m=\u001b[0m \u001b[0mCCXTExchange\u001b[0m\u001b[0;34m(\u001b[0m\u001b[0mexchange\u001b[0m\u001b[0;34m=\u001b[0m\u001b[0mcoinbase\u001b[0m\u001b[0;34m,\u001b[0m \u001b[0mbase_instrument\u001b[0m\u001b[0;34m=\u001b[0m\u001b[0;34m'USD'\u001b[0m\u001b[0;34m)\u001b[0m\u001b[0;34m\u001b[0m\u001b[0;34m\u001b[0m\u001b[0m\n",
            "\u001b[0;31mModuleNotFoundError\u001b[0m: No module named 'tensortrade.exchanges'",
            "",
            "\u001b[0;31m---------------------------------------------------------------------------\u001b[0;32m\nNOTE: If your import is failing due to a missing package, you can\nmanually install dependencies using either !pip or !apt.\n\nTo view examples of installing some common dependencies, click the\n\"Open Examples\" button below.\n\u001b[0;31m---------------------------------------------------------------------------\u001b[0m\n"
          ]
        }
      ]
    },
    {
      "cell_type": "code",
      "metadata": {
        "id": "vsVMJBVI018a"
      },
      "source": [
        ""
      ],
      "execution_count": null,
      "outputs": []
    }
  ]
}